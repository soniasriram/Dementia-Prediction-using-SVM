{
  "nbformat": 4,
  "nbformat_minor": 5,
  "metadata": {
    "kernelspec": {
      "display_name": "Python 3",
      "language": "python",
      "name": "python3"
    },
    "language_info": {
      "codemirror_mode": {
        "name": "ipython",
        "version": 3
      },
      "file_extension": ".py",
      "mimetype": "text/x-python",
      "name": "python",
      "nbconvert_exporter": "python",
      "pygments_lexer": "ipython3",
      "version": "3.9.2"
    },
    "colab": {
      "name": "Dementia_prediction_SVM_Classifier.ipynb",
      "provenance": [],
      "collapsed_sections": []
    }
  },
  "cells": [
    {
      "cell_type": "markdown",
      "metadata": {
        "id": "associate-sunset"
      },
      "source": [
        "# Mini-Project: Dementia prediction using SVM"
      ],
      "id": "associate-sunset"
    },
    {
      "cell_type": "markdown",
      "metadata": {
        "id": "handled-tooth"
      },
      "source": [
        "## Problem Statement"
      ],
      "id": "handled-tooth"
    },
    {
      "cell_type": "markdown",
      "metadata": {
        "id": "accessory-watts"
      },
      "source": [
        "Prediction of Dementia using an SVM model on brain MRI features"
      ],
      "id": "accessory-watts"
    },
    {
      "cell_type": "markdown",
      "metadata": {
        "id": "twenty-indonesia"
      },
      "source": [
        "## Learning Objectives"
      ],
      "id": "twenty-indonesia"
    },
    {
      "cell_type": "markdown",
      "metadata": {
        "id": "honest-friendship"
      },
      "source": [
        "At the end of the mini-project, you will be able to :\n",
        "\n",
        "* perform data exploration, preprocessing and visualization\n",
        "* implement SVM Classifier on the data\n",
        "* explore various parameters of SVM classifier and implement OneVsOne classifier\n",
        "* calculate the metrics and plot the roc_curve"
      ],
      "id": "honest-friendship"
    },
    {
      "cell_type": "markdown",
      "metadata": {
        "id": "rapid-hierarchy"
      },
      "source": [
        "## Information"
      ],
      "id": "rapid-hierarchy"
    },
    {
      "cell_type": "markdown",
      "metadata": {
        "id": "prescribed-matter"
      },
      "source": [
        "**About Dementia**\n",
        "\n",
        "Dementia is a general term for loss of memory and other mental abilities severe enough to interfere with daily life. It is caused by physical changes in the brain. Alzheimer's is the most common type of dementia, but there are many kinds.\n",
        "\n",
        "**Brain Imaging via magnetic resonance imaging (MRI) and Machine Learning**\n",
        "\n",
        "* MRI is used for the evaluation of patients with suspected Alzheimer's disease\n",
        "* MRIs detect both, local and generalized shrinkage of brain tissue.\n",
        "* MRI features predict the rate of decline of AD and may guide therapy in the future\n",
        "* Using machine learning on MRI features could help in automatedly and accurately predicting the progress of a patient from mild cognitive impairment to dementia\n",
        "\n",
        "To understand the basics of MRI technique, you could refer [here](https://case.edu/med/neurology/NR/MRI%20Basics.htm)"
      ],
      "id": "prescribed-matter"
    },
    {
      "cell_type": "markdown",
      "metadata": {
        "id": "lesbian-bottom"
      },
      "source": [
        "## Dataset"
      ],
      "id": "lesbian-bottom"
    },
    {
      "cell_type": "markdown",
      "metadata": {
        "id": "fixed-trainer"
      },
      "source": [
        "The dataset chosen for this mini-project is [OASIS - Longitudinal brain MRI Dataset](https://www.oasis-brains.org/). This dataset consists of a longitudinal MRI collection of 150 subjects aged 60 to 96. Each subject was scanned on two or more visits, separated by at least one year for a total of 373 imaging sessions. For each subject, 3 or 4 individual T1-weighted MRI scans obtained in single scan sessions are included. The subjects are all right-handed and include both men and women. 72 of the subjects were characterized as nondemented throughout the study. 64 of the included subjects were characterized as demented at the time of their initial visits and remained so for subsequent scans, including 51 individuals with mild to moderate Alzheimer’s disease. Another 14 subjects were characterized as nondemented at the time of their initial visit and were subsequently characterized as demented at a later visit.\n",
        "\n",
        "**Dataset fields:**\n",
        "\n",
        "* Subject ID - Subject Identification\n",
        "* MRI ID - MRI Exam Identification\n",
        "* Group - Target variable with 3 labels ('NonDemented', 'Demented', 'Converted')\n",
        "* Visit - Visit order\n",
        "* MR Delay - MR Delay Time (Contrast)\n",
        "* M/F - Male or Female\n",
        "* Hand - Unique value 'R'\n",
        "* MMSE - Mini-Mental State Examination score (range is from 0 = worst to 30 = best)\n",
        "* CDR - Clinical Dementia Rating (0 = no dementia, 0.5 = very mild AD, 1 = mild AD, 2 = moderate AD)\n",
        "* Derived anatomic volumes\n",
        "* eTIV - Estimated total intracranial volume, mm3\n",
        "* nWBV - Normalized whole-brain volume, expressed as a percent of all voxels in the atlas-masked image that are labeled as gray or white matter by the automated tissue segmentation process\n",
        "* ASF - Atlas scaling factor (unitless). A computed scaling factor that transforms native-space brain and skull to the atlas target (i.e., the determinant of the transform matrix)\n",
        "\n",
        "For learning more on building a machine learning model to predict dementia using SVM, refer [here](https://www.ncbi.nlm.nih.gov/pmc/articles/PMC7408873/)."
      ],
      "id": "fixed-trainer"
    },
    {
      "cell_type": "code",
      "metadata": {
        "id": "talented-upset",
        "cellView": "form",
        "colab": {
          "base_uri": "https://localhost:8080/"
        },
        "outputId": "f870fc21-e2d2-49f3-a510-23e546167264"
      },
      "source": [
        "#@title Download the dataset\n",
        "!wget -qq https://cdn.iisc.talentsprint.com/CDS/MiniProjects/oasis_longitudinal.csv\n",
        "print(\"Data downloaded successfully!\")"
      ],
      "id": "talented-upset",
      "execution_count": null,
      "outputs": [
        {
          "output_type": "stream",
          "text": [
            "Data downloaded successfully!\n"
          ],
          "name": "stdout"
        }
      ]
    },
    {
      "cell_type": "markdown",
      "metadata": {
        "id": "appreciated-pattern"
      },
      "source": [
        "### Import required packages"
      ],
      "id": "appreciated-pattern"
    },
    {
      "cell_type": "code",
      "metadata": {
        "id": "loose-marsh"
      },
      "source": [
        "import pandas as pd\n",
        "import numpy as np\n",
        "import seaborn as sns\n",
        "from matplotlib import pyplot as plt\n",
        "import math\n",
        "# sklearn imports\n",
        "from sklearn.preprocessing import LabelEncoder\n",
        "from sklearn import metrics\n",
        "from sklearn.model_selection import train_test_split\n",
        "from sklearn.svm import SVC\n",
        "from sklearn.multiclass import OneVsRestClassifier\n",
        "from sklearn.multiclass import OneVsOneClassifier\n",
        "from sklearn.preprocessing import MinMaxScaler \n",
        "from sklearn.metrics import confusion_matrix, accuracy_score, recall_score, roc_curve, auc\n",
        "\n",
        "import pandas as pd\n",
        "import numpy as np\n",
        "import seaborn as sns\n",
        "from matplotlib import pyplot as plt\n",
        "import math\n",
        "\n",
        "\n",
        "\n",
        "\n",
        "\n",
        "\n"
      ],
      "id": "loose-marsh",
      "execution_count": null,
      "outputs": []
    },
    {
      "cell_type": "markdown",
      "metadata": {
        "id": "compressed-reflection"
      },
      "source": [
        "### Load the dataset"
      ],
      "id": "compressed-reflection"
    },
    {
      "cell_type": "code",
      "metadata": {
        "id": "fatty-graph",
        "colab": {
          "base_uri": "https://localhost:8080/",
          "height": 206
        },
        "outputId": "003a7c01-db2f-4566-f586-449c2c6340d3"
      },
      "source": [
        "# YOUR CODE HERE\n",
        "df = pd.read_csv('/content/oasis_longitudinal.csv')\n",
        "df. head()"
      ],
      "id": "fatty-graph",
      "execution_count": null,
      "outputs": [
        {
          "output_type": "execute_result",
          "data": {
            "text/html": [
              "<div>\n",
              "<style scoped>\n",
              "    .dataframe tbody tr th:only-of-type {\n",
              "        vertical-align: middle;\n",
              "    }\n",
              "\n",
              "    .dataframe tbody tr th {\n",
              "        vertical-align: top;\n",
              "    }\n",
              "\n",
              "    .dataframe thead th {\n",
              "        text-align: right;\n",
              "    }\n",
              "</style>\n",
              "<table border=\"1\" class=\"dataframe\">\n",
              "  <thead>\n",
              "    <tr style=\"text-align: right;\">\n",
              "      <th></th>\n",
              "      <th>Subject ID</th>\n",
              "      <th>MRI ID</th>\n",
              "      <th>Group</th>\n",
              "      <th>Visit</th>\n",
              "      <th>MR Delay</th>\n",
              "      <th>M/F</th>\n",
              "      <th>Hand</th>\n",
              "      <th>Age</th>\n",
              "      <th>EDUC</th>\n",
              "      <th>SES</th>\n",
              "      <th>MMSE</th>\n",
              "      <th>CDR</th>\n",
              "      <th>eTIV</th>\n",
              "      <th>nWBV</th>\n",
              "      <th>ASF</th>\n",
              "    </tr>\n",
              "  </thead>\n",
              "  <tbody>\n",
              "    <tr>\n",
              "      <th>0</th>\n",
              "      <td>OAS2_0001</td>\n",
              "      <td>OAS2_0001_MR1</td>\n",
              "      <td>Nondemented</td>\n",
              "      <td>1</td>\n",
              "      <td>0</td>\n",
              "      <td>M</td>\n",
              "      <td>R</td>\n",
              "      <td>87</td>\n",
              "      <td>14</td>\n",
              "      <td>2.0</td>\n",
              "      <td>27.0</td>\n",
              "      <td>0.0</td>\n",
              "      <td>1987</td>\n",
              "      <td>0.696</td>\n",
              "      <td>0.883</td>\n",
              "    </tr>\n",
              "    <tr>\n",
              "      <th>1</th>\n",
              "      <td>OAS2_0001</td>\n",
              "      <td>OAS2_0001_MR2</td>\n",
              "      <td>Nondemented</td>\n",
              "      <td>2</td>\n",
              "      <td>457</td>\n",
              "      <td>M</td>\n",
              "      <td>R</td>\n",
              "      <td>88</td>\n",
              "      <td>14</td>\n",
              "      <td>2.0</td>\n",
              "      <td>30.0</td>\n",
              "      <td>0.0</td>\n",
              "      <td>2004</td>\n",
              "      <td>0.681</td>\n",
              "      <td>0.876</td>\n",
              "    </tr>\n",
              "    <tr>\n",
              "      <th>2</th>\n",
              "      <td>OAS2_0002</td>\n",
              "      <td>OAS2_0002_MR1</td>\n",
              "      <td>Demented</td>\n",
              "      <td>1</td>\n",
              "      <td>0</td>\n",
              "      <td>M</td>\n",
              "      <td>R</td>\n",
              "      <td>75</td>\n",
              "      <td>12</td>\n",
              "      <td>NaN</td>\n",
              "      <td>23.0</td>\n",
              "      <td>0.5</td>\n",
              "      <td>1678</td>\n",
              "      <td>0.736</td>\n",
              "      <td>1.046</td>\n",
              "    </tr>\n",
              "    <tr>\n",
              "      <th>3</th>\n",
              "      <td>OAS2_0002</td>\n",
              "      <td>OAS2_0002_MR2</td>\n",
              "      <td>Demented</td>\n",
              "      <td>2</td>\n",
              "      <td>560</td>\n",
              "      <td>M</td>\n",
              "      <td>R</td>\n",
              "      <td>76</td>\n",
              "      <td>12</td>\n",
              "      <td>NaN</td>\n",
              "      <td>28.0</td>\n",
              "      <td>0.5</td>\n",
              "      <td>1738</td>\n",
              "      <td>0.713</td>\n",
              "      <td>1.010</td>\n",
              "    </tr>\n",
              "    <tr>\n",
              "      <th>4</th>\n",
              "      <td>OAS2_0002</td>\n",
              "      <td>OAS2_0002_MR3</td>\n",
              "      <td>Demented</td>\n",
              "      <td>3</td>\n",
              "      <td>1895</td>\n",
              "      <td>M</td>\n",
              "      <td>R</td>\n",
              "      <td>80</td>\n",
              "      <td>12</td>\n",
              "      <td>NaN</td>\n",
              "      <td>22.0</td>\n",
              "      <td>0.5</td>\n",
              "      <td>1698</td>\n",
              "      <td>0.701</td>\n",
              "      <td>1.034</td>\n",
              "    </tr>\n",
              "  </tbody>\n",
              "</table>\n",
              "</div>"
            ],
            "text/plain": [
              "  Subject ID         MRI ID        Group  Visit  ...  CDR  eTIV   nWBV    ASF\n",
              "0  OAS2_0001  OAS2_0001_MR1  Nondemented      1  ...  0.0  1987  0.696  0.883\n",
              "1  OAS2_0001  OAS2_0001_MR2  Nondemented      2  ...  0.0  2004  0.681  0.876\n",
              "2  OAS2_0002  OAS2_0002_MR1     Demented      1  ...  0.5  1678  0.736  1.046\n",
              "3  OAS2_0002  OAS2_0002_MR2     Demented      2  ...  0.5  1738  0.713  1.010\n",
              "4  OAS2_0002  OAS2_0002_MR3     Demented      3  ...  0.5  1698  0.701  1.034\n",
              "\n",
              "[5 rows x 15 columns]"
            ]
          },
          "metadata": {
            "tags": []
          },
          "execution_count": 3
        }
      ]
    },
    {
      "cell_type": "code",
      "metadata": {
        "colab": {
          "base_uri": "https://localhost:8080/"
        },
        "id": "BXB624ZcYap4",
        "outputId": "2ce36051-5eb2-4867-ea38-2382a9fe13bd"
      },
      "source": [
        "print('The information related to dataset:')\n",
        "df.info()\n",
        "print(\"The description of dataset:\")\n",
        "df.describe()\n",
        "print(\"The shape of the dataset:\")\n",
        "df.shape"
      ],
      "id": "BXB624ZcYap4",
      "execution_count": null,
      "outputs": [
        {
          "output_type": "stream",
          "text": [
            "The information related to dataset:\n",
            "<class 'pandas.core.frame.DataFrame'>\n",
            "RangeIndex: 373 entries, 0 to 372\n",
            "Data columns (total 15 columns):\n",
            " #   Column      Non-Null Count  Dtype  \n",
            "---  ------      --------------  -----  \n",
            " 0   Subject ID  373 non-null    object \n",
            " 1   MRI ID      373 non-null    object \n",
            " 2   Group       373 non-null    object \n",
            " 3   Visit       373 non-null    int64  \n",
            " 4   MR Delay    373 non-null    int64  \n",
            " 5   M/F         373 non-null    object \n",
            " 6   Hand        373 non-null    object \n",
            " 7   Age         373 non-null    int64  \n",
            " 8   EDUC        373 non-null    int64  \n",
            " 9   SES         354 non-null    float64\n",
            " 10  MMSE        371 non-null    float64\n",
            " 11  CDR         373 non-null    float64\n",
            " 12  eTIV        373 non-null    int64  \n",
            " 13  nWBV        373 non-null    float64\n",
            " 14  ASF         373 non-null    float64\n",
            "dtypes: float64(5), int64(5), object(5)\n",
            "memory usage: 43.8+ KB\n",
            "The description of dataset:\n",
            "The shape of the dataset:\n"
          ],
          "name": "stdout"
        },
        {
          "output_type": "execute_result",
          "data": {
            "text/plain": [
              "(373, 15)"
            ]
          },
          "metadata": {
            "tags": []
          },
          "execution_count": 4
        }
      ]
    },
    {
      "cell_type": "markdown",
      "metadata": {
        "id": "christian-hamilton"
      },
      "source": [
        "### Pre-processing and Data Engineering"
      ],
      "id": "christian-hamilton"
    },
    {
      "cell_type": "markdown",
      "metadata": {
        "id": "dense-ivory"
      },
      "source": [
        "#### Remove unwanted columns"
      ],
      "id": "dense-ivory"
    },
    {
      "cell_type": "code",
      "metadata": {
        "id": "prime-genetics",
        "colab": {
          "base_uri": "https://localhost:8080/",
          "height": 423
        },
        "outputId": "3f6be366-6873-40e9-e528-75e40c9346be"
      },
      "source": [
        "# YOUR CODE HERE\n",
        "df = df.drop(['MRI ID',  'Hand'], axis=1) # Drop unnecessary columns\n",
        "df"
      ],
      "id": "prime-genetics",
      "execution_count": null,
      "outputs": [
        {
          "output_type": "execute_result",
          "data": {
            "text/html": [
              "<div>\n",
              "<style scoped>\n",
              "    .dataframe tbody tr th:only-of-type {\n",
              "        vertical-align: middle;\n",
              "    }\n",
              "\n",
              "    .dataframe tbody tr th {\n",
              "        vertical-align: top;\n",
              "    }\n",
              "\n",
              "    .dataframe thead th {\n",
              "        text-align: right;\n",
              "    }\n",
              "</style>\n",
              "<table border=\"1\" class=\"dataframe\">\n",
              "  <thead>\n",
              "    <tr style=\"text-align: right;\">\n",
              "      <th></th>\n",
              "      <th>Subject ID</th>\n",
              "      <th>Group</th>\n",
              "      <th>Visit</th>\n",
              "      <th>MR Delay</th>\n",
              "      <th>M/F</th>\n",
              "      <th>Age</th>\n",
              "      <th>EDUC</th>\n",
              "      <th>SES</th>\n",
              "      <th>MMSE</th>\n",
              "      <th>CDR</th>\n",
              "      <th>eTIV</th>\n",
              "      <th>nWBV</th>\n",
              "      <th>ASF</th>\n",
              "    </tr>\n",
              "  </thead>\n",
              "  <tbody>\n",
              "    <tr>\n",
              "      <th>0</th>\n",
              "      <td>OAS2_0001</td>\n",
              "      <td>Nondemented</td>\n",
              "      <td>1</td>\n",
              "      <td>0</td>\n",
              "      <td>M</td>\n",
              "      <td>87</td>\n",
              "      <td>14</td>\n",
              "      <td>2.0</td>\n",
              "      <td>27.0</td>\n",
              "      <td>0.0</td>\n",
              "      <td>1987</td>\n",
              "      <td>0.696</td>\n",
              "      <td>0.883</td>\n",
              "    </tr>\n",
              "    <tr>\n",
              "      <th>1</th>\n",
              "      <td>OAS2_0001</td>\n",
              "      <td>Nondemented</td>\n",
              "      <td>2</td>\n",
              "      <td>457</td>\n",
              "      <td>M</td>\n",
              "      <td>88</td>\n",
              "      <td>14</td>\n",
              "      <td>2.0</td>\n",
              "      <td>30.0</td>\n",
              "      <td>0.0</td>\n",
              "      <td>2004</td>\n",
              "      <td>0.681</td>\n",
              "      <td>0.876</td>\n",
              "    </tr>\n",
              "    <tr>\n",
              "      <th>2</th>\n",
              "      <td>OAS2_0002</td>\n",
              "      <td>Demented</td>\n",
              "      <td>1</td>\n",
              "      <td>0</td>\n",
              "      <td>M</td>\n",
              "      <td>75</td>\n",
              "      <td>12</td>\n",
              "      <td>NaN</td>\n",
              "      <td>23.0</td>\n",
              "      <td>0.5</td>\n",
              "      <td>1678</td>\n",
              "      <td>0.736</td>\n",
              "      <td>1.046</td>\n",
              "    </tr>\n",
              "    <tr>\n",
              "      <th>3</th>\n",
              "      <td>OAS2_0002</td>\n",
              "      <td>Demented</td>\n",
              "      <td>2</td>\n",
              "      <td>560</td>\n",
              "      <td>M</td>\n",
              "      <td>76</td>\n",
              "      <td>12</td>\n",
              "      <td>NaN</td>\n",
              "      <td>28.0</td>\n",
              "      <td>0.5</td>\n",
              "      <td>1738</td>\n",
              "      <td>0.713</td>\n",
              "      <td>1.010</td>\n",
              "    </tr>\n",
              "    <tr>\n",
              "      <th>4</th>\n",
              "      <td>OAS2_0002</td>\n",
              "      <td>Demented</td>\n",
              "      <td>3</td>\n",
              "      <td>1895</td>\n",
              "      <td>M</td>\n",
              "      <td>80</td>\n",
              "      <td>12</td>\n",
              "      <td>NaN</td>\n",
              "      <td>22.0</td>\n",
              "      <td>0.5</td>\n",
              "      <td>1698</td>\n",
              "      <td>0.701</td>\n",
              "      <td>1.034</td>\n",
              "    </tr>\n",
              "    <tr>\n",
              "      <th>...</th>\n",
              "      <td>...</td>\n",
              "      <td>...</td>\n",
              "      <td>...</td>\n",
              "      <td>...</td>\n",
              "      <td>...</td>\n",
              "      <td>...</td>\n",
              "      <td>...</td>\n",
              "      <td>...</td>\n",
              "      <td>...</td>\n",
              "      <td>...</td>\n",
              "      <td>...</td>\n",
              "      <td>...</td>\n",
              "      <td>...</td>\n",
              "    </tr>\n",
              "    <tr>\n",
              "      <th>368</th>\n",
              "      <td>OAS2_0185</td>\n",
              "      <td>Demented</td>\n",
              "      <td>2</td>\n",
              "      <td>842</td>\n",
              "      <td>M</td>\n",
              "      <td>82</td>\n",
              "      <td>16</td>\n",
              "      <td>1.0</td>\n",
              "      <td>28.0</td>\n",
              "      <td>0.5</td>\n",
              "      <td>1693</td>\n",
              "      <td>0.694</td>\n",
              "      <td>1.037</td>\n",
              "    </tr>\n",
              "    <tr>\n",
              "      <th>369</th>\n",
              "      <td>OAS2_0185</td>\n",
              "      <td>Demented</td>\n",
              "      <td>3</td>\n",
              "      <td>2297</td>\n",
              "      <td>M</td>\n",
              "      <td>86</td>\n",
              "      <td>16</td>\n",
              "      <td>1.0</td>\n",
              "      <td>26.0</td>\n",
              "      <td>0.5</td>\n",
              "      <td>1688</td>\n",
              "      <td>0.675</td>\n",
              "      <td>1.040</td>\n",
              "    </tr>\n",
              "    <tr>\n",
              "      <th>370</th>\n",
              "      <td>OAS2_0186</td>\n",
              "      <td>Nondemented</td>\n",
              "      <td>1</td>\n",
              "      <td>0</td>\n",
              "      <td>F</td>\n",
              "      <td>61</td>\n",
              "      <td>13</td>\n",
              "      <td>2.0</td>\n",
              "      <td>30.0</td>\n",
              "      <td>0.0</td>\n",
              "      <td>1319</td>\n",
              "      <td>0.801</td>\n",
              "      <td>1.331</td>\n",
              "    </tr>\n",
              "    <tr>\n",
              "      <th>371</th>\n",
              "      <td>OAS2_0186</td>\n",
              "      <td>Nondemented</td>\n",
              "      <td>2</td>\n",
              "      <td>763</td>\n",
              "      <td>F</td>\n",
              "      <td>63</td>\n",
              "      <td>13</td>\n",
              "      <td>2.0</td>\n",
              "      <td>30.0</td>\n",
              "      <td>0.0</td>\n",
              "      <td>1327</td>\n",
              "      <td>0.796</td>\n",
              "      <td>1.323</td>\n",
              "    </tr>\n",
              "    <tr>\n",
              "      <th>372</th>\n",
              "      <td>OAS2_0186</td>\n",
              "      <td>Nondemented</td>\n",
              "      <td>3</td>\n",
              "      <td>1608</td>\n",
              "      <td>F</td>\n",
              "      <td>65</td>\n",
              "      <td>13</td>\n",
              "      <td>2.0</td>\n",
              "      <td>30.0</td>\n",
              "      <td>0.0</td>\n",
              "      <td>1333</td>\n",
              "      <td>0.801</td>\n",
              "      <td>1.317</td>\n",
              "    </tr>\n",
              "  </tbody>\n",
              "</table>\n",
              "<p>373 rows × 13 columns</p>\n",
              "</div>"
            ],
            "text/plain": [
              "    Subject ID        Group  Visit  MR Delay M/F  ...  MMSE  CDR  eTIV   nWBV    ASF\n",
              "0    OAS2_0001  Nondemented      1         0   M  ...  27.0  0.0  1987  0.696  0.883\n",
              "1    OAS2_0001  Nondemented      2       457   M  ...  30.0  0.0  2004  0.681  0.876\n",
              "2    OAS2_0002     Demented      1         0   M  ...  23.0  0.5  1678  0.736  1.046\n",
              "3    OAS2_0002     Demented      2       560   M  ...  28.0  0.5  1738  0.713  1.010\n",
              "4    OAS2_0002     Demented      3      1895   M  ...  22.0  0.5  1698  0.701  1.034\n",
              "..         ...          ...    ...       ...  ..  ...   ...  ...   ...    ...    ...\n",
              "368  OAS2_0185     Demented      2       842   M  ...  28.0  0.5  1693  0.694  1.037\n",
              "369  OAS2_0185     Demented      3      2297   M  ...  26.0  0.5  1688  0.675  1.040\n",
              "370  OAS2_0186  Nondemented      1         0   F  ...  30.0  0.0  1319  0.801  1.331\n",
              "371  OAS2_0186  Nondemented      2       763   F  ...  30.0  0.0  1327  0.796  1.323\n",
              "372  OAS2_0186  Nondemented      3      1608   F  ...  30.0  0.0  1333  0.801  1.317\n",
              "\n",
              "[373 rows x 13 columns]"
            ]
          },
          "metadata": {
            "tags": []
          },
          "execution_count": 5
        }
      ]
    },
    {
      "cell_type": "markdown",
      "metadata": {
        "id": "reported-expression"
      },
      "source": [
        "#### Encode categorical features into numeric"
      ],
      "id": "reported-expression"
    },
    {
      "cell_type": "code",
      "metadata": {
        "id": "radical-procurement",
        "colab": {
          "base_uri": "https://localhost:8080/",
          "height": 423
        },
        "outputId": "3a1fbb25-4ca2-4728-c80d-c83b6e744aeb"
      },
      "source": [
        "# YOUR CODE HERE\n",
        "df['M/F'] = df['M/F'].replace(['F','M'], [0,1]) # M/F column\n",
        "df['Group'] = df['Group'].replace(['Converted'], ['Demented']) # Target variable\n",
        "df['Group'] = df['Group'].replace(['Demented', 'Nondemented'], [1,0]) # Target variable\n",
        "df"
      ],
      "id": "radical-procurement",
      "execution_count": null,
      "outputs": [
        {
          "output_type": "execute_result",
          "data": {
            "text/html": [
              "<div>\n",
              "<style scoped>\n",
              "    .dataframe tbody tr th:only-of-type {\n",
              "        vertical-align: middle;\n",
              "    }\n",
              "\n",
              "    .dataframe tbody tr th {\n",
              "        vertical-align: top;\n",
              "    }\n",
              "\n",
              "    .dataframe thead th {\n",
              "        text-align: right;\n",
              "    }\n",
              "</style>\n",
              "<table border=\"1\" class=\"dataframe\">\n",
              "  <thead>\n",
              "    <tr style=\"text-align: right;\">\n",
              "      <th></th>\n",
              "      <th>Subject ID</th>\n",
              "      <th>Group</th>\n",
              "      <th>Visit</th>\n",
              "      <th>MR Delay</th>\n",
              "      <th>M/F</th>\n",
              "      <th>Age</th>\n",
              "      <th>EDUC</th>\n",
              "      <th>SES</th>\n",
              "      <th>MMSE</th>\n",
              "      <th>CDR</th>\n",
              "      <th>eTIV</th>\n",
              "      <th>nWBV</th>\n",
              "      <th>ASF</th>\n",
              "    </tr>\n",
              "  </thead>\n",
              "  <tbody>\n",
              "    <tr>\n",
              "      <th>0</th>\n",
              "      <td>OAS2_0001</td>\n",
              "      <td>0</td>\n",
              "      <td>1</td>\n",
              "      <td>0</td>\n",
              "      <td>1</td>\n",
              "      <td>87</td>\n",
              "      <td>14</td>\n",
              "      <td>2.0</td>\n",
              "      <td>27.0</td>\n",
              "      <td>0.0</td>\n",
              "      <td>1987</td>\n",
              "      <td>0.696</td>\n",
              "      <td>0.883</td>\n",
              "    </tr>\n",
              "    <tr>\n",
              "      <th>1</th>\n",
              "      <td>OAS2_0001</td>\n",
              "      <td>0</td>\n",
              "      <td>2</td>\n",
              "      <td>457</td>\n",
              "      <td>1</td>\n",
              "      <td>88</td>\n",
              "      <td>14</td>\n",
              "      <td>2.0</td>\n",
              "      <td>30.0</td>\n",
              "      <td>0.0</td>\n",
              "      <td>2004</td>\n",
              "      <td>0.681</td>\n",
              "      <td>0.876</td>\n",
              "    </tr>\n",
              "    <tr>\n",
              "      <th>2</th>\n",
              "      <td>OAS2_0002</td>\n",
              "      <td>1</td>\n",
              "      <td>1</td>\n",
              "      <td>0</td>\n",
              "      <td>1</td>\n",
              "      <td>75</td>\n",
              "      <td>12</td>\n",
              "      <td>NaN</td>\n",
              "      <td>23.0</td>\n",
              "      <td>0.5</td>\n",
              "      <td>1678</td>\n",
              "      <td>0.736</td>\n",
              "      <td>1.046</td>\n",
              "    </tr>\n",
              "    <tr>\n",
              "      <th>3</th>\n",
              "      <td>OAS2_0002</td>\n",
              "      <td>1</td>\n",
              "      <td>2</td>\n",
              "      <td>560</td>\n",
              "      <td>1</td>\n",
              "      <td>76</td>\n",
              "      <td>12</td>\n",
              "      <td>NaN</td>\n",
              "      <td>28.0</td>\n",
              "      <td>0.5</td>\n",
              "      <td>1738</td>\n",
              "      <td>0.713</td>\n",
              "      <td>1.010</td>\n",
              "    </tr>\n",
              "    <tr>\n",
              "      <th>4</th>\n",
              "      <td>OAS2_0002</td>\n",
              "      <td>1</td>\n",
              "      <td>3</td>\n",
              "      <td>1895</td>\n",
              "      <td>1</td>\n",
              "      <td>80</td>\n",
              "      <td>12</td>\n",
              "      <td>NaN</td>\n",
              "      <td>22.0</td>\n",
              "      <td>0.5</td>\n",
              "      <td>1698</td>\n",
              "      <td>0.701</td>\n",
              "      <td>1.034</td>\n",
              "    </tr>\n",
              "    <tr>\n",
              "      <th>...</th>\n",
              "      <td>...</td>\n",
              "      <td>...</td>\n",
              "      <td>...</td>\n",
              "      <td>...</td>\n",
              "      <td>...</td>\n",
              "      <td>...</td>\n",
              "      <td>...</td>\n",
              "      <td>...</td>\n",
              "      <td>...</td>\n",
              "      <td>...</td>\n",
              "      <td>...</td>\n",
              "      <td>...</td>\n",
              "      <td>...</td>\n",
              "    </tr>\n",
              "    <tr>\n",
              "      <th>368</th>\n",
              "      <td>OAS2_0185</td>\n",
              "      <td>1</td>\n",
              "      <td>2</td>\n",
              "      <td>842</td>\n",
              "      <td>1</td>\n",
              "      <td>82</td>\n",
              "      <td>16</td>\n",
              "      <td>1.0</td>\n",
              "      <td>28.0</td>\n",
              "      <td>0.5</td>\n",
              "      <td>1693</td>\n",
              "      <td>0.694</td>\n",
              "      <td>1.037</td>\n",
              "    </tr>\n",
              "    <tr>\n",
              "      <th>369</th>\n",
              "      <td>OAS2_0185</td>\n",
              "      <td>1</td>\n",
              "      <td>3</td>\n",
              "      <td>2297</td>\n",
              "      <td>1</td>\n",
              "      <td>86</td>\n",
              "      <td>16</td>\n",
              "      <td>1.0</td>\n",
              "      <td>26.0</td>\n",
              "      <td>0.5</td>\n",
              "      <td>1688</td>\n",
              "      <td>0.675</td>\n",
              "      <td>1.040</td>\n",
              "    </tr>\n",
              "    <tr>\n",
              "      <th>370</th>\n",
              "      <td>OAS2_0186</td>\n",
              "      <td>0</td>\n",
              "      <td>1</td>\n",
              "      <td>0</td>\n",
              "      <td>0</td>\n",
              "      <td>61</td>\n",
              "      <td>13</td>\n",
              "      <td>2.0</td>\n",
              "      <td>30.0</td>\n",
              "      <td>0.0</td>\n",
              "      <td>1319</td>\n",
              "      <td>0.801</td>\n",
              "      <td>1.331</td>\n",
              "    </tr>\n",
              "    <tr>\n",
              "      <th>371</th>\n",
              "      <td>OAS2_0186</td>\n",
              "      <td>0</td>\n",
              "      <td>2</td>\n",
              "      <td>763</td>\n",
              "      <td>0</td>\n",
              "      <td>63</td>\n",
              "      <td>13</td>\n",
              "      <td>2.0</td>\n",
              "      <td>30.0</td>\n",
              "      <td>0.0</td>\n",
              "      <td>1327</td>\n",
              "      <td>0.796</td>\n",
              "      <td>1.323</td>\n",
              "    </tr>\n",
              "    <tr>\n",
              "      <th>372</th>\n",
              "      <td>OAS2_0186</td>\n",
              "      <td>0</td>\n",
              "      <td>3</td>\n",
              "      <td>1608</td>\n",
              "      <td>0</td>\n",
              "      <td>65</td>\n",
              "      <td>13</td>\n",
              "      <td>2.0</td>\n",
              "      <td>30.0</td>\n",
              "      <td>0.0</td>\n",
              "      <td>1333</td>\n",
              "      <td>0.801</td>\n",
              "      <td>1.317</td>\n",
              "    </tr>\n",
              "  </tbody>\n",
              "</table>\n",
              "<p>373 rows × 13 columns</p>\n",
              "</div>"
            ],
            "text/plain": [
              "    Subject ID  Group  Visit  MR Delay  M/F  ...  MMSE  CDR  eTIV   nWBV    ASF\n",
              "0    OAS2_0001      0      1         0    1  ...  27.0  0.0  1987  0.696  0.883\n",
              "1    OAS2_0001      0      2       457    1  ...  30.0  0.0  2004  0.681  0.876\n",
              "2    OAS2_0002      1      1         0    1  ...  23.0  0.5  1678  0.736  1.046\n",
              "3    OAS2_0002      1      2       560    1  ...  28.0  0.5  1738  0.713  1.010\n",
              "4    OAS2_0002      1      3      1895    1  ...  22.0  0.5  1698  0.701  1.034\n",
              "..         ...    ...    ...       ...  ...  ...   ...  ...   ...    ...    ...\n",
              "368  OAS2_0185      1      2       842    1  ...  28.0  0.5  1693  0.694  1.037\n",
              "369  OAS2_0185      1      3      2297    1  ...  26.0  0.5  1688  0.675  1.040\n",
              "370  OAS2_0186      0      1         0    0  ...  30.0  0.0  1319  0.801  1.331\n",
              "371  OAS2_0186      0      2       763    0  ...  30.0  0.0  1327  0.796  1.323\n",
              "372  OAS2_0186      0      3      1608    0  ...  30.0  0.0  1333  0.801  1.317\n",
              "\n",
              "[373 rows x 13 columns]"
            ]
          },
          "metadata": {
            "tags": []
          },
          "execution_count": 6
        }
      ]
    },
    {
      "cell_type": "markdown",
      "metadata": {
        "id": "hundred-geometry"
      },
      "source": [
        "#### Handle the null values by removing or replacing"
      ],
      "id": "hundred-geometry"
    },
    {
      "cell_type": "code",
      "metadata": {
        "id": "geographic-celebration",
        "colab": {
          "base_uri": "https://localhost:8080/"
        },
        "outputId": "dce7d83c-0758-4250-cffc-7e18b7fdd472"
      },
      "source": [
        "# YOUR CODE HERE\n",
        "df.isnull().sum()"
      ],
      "id": "geographic-celebration",
      "execution_count": null,
      "outputs": [
        {
          "output_type": "execute_result",
          "data": {
            "text/plain": [
              "Subject ID     0\n",
              "Group          0\n",
              "Visit          0\n",
              "MR Delay       0\n",
              "M/F            0\n",
              "Age            0\n",
              "EDUC           0\n",
              "SES           19\n",
              "MMSE           2\n",
              "CDR            0\n",
              "eTIV           0\n",
              "nWBV           0\n",
              "ASF            0\n",
              "dtype: int64"
            ]
          },
          "metadata": {
            "tags": []
          },
          "execution_count": 7
        }
      ]
    },
    {
      "cell_type": "markdown",
      "metadata": {
        "id": "mtFg5AvzcPo6"
      },
      "source": [
        "**We identified 12 rows with missing values in SES column and 2 in MMSE. We deal with this issue with 2 approaches. One is just to drop the rows with missing values. The other is to replace the missing values with the corresponing values, also known as 'Imputation'. Since we have small dataset, I assume imputation would help the performance of our model.**"
      ],
      "id": "mtFg5AvzcPo6"
    },
    {
      "cell_type": "code",
      "metadata": {
        "colab": {
          "base_uri": "https://localhost:8080/"
        },
        "id": "u2KwUctQcN9f",
        "outputId": "32b1df2d-9f59-4cdc-a495-867fdd34724b"
      },
      "source": [
        "SES_median = df.groupby(['EDUC'])['SES'].median()\n",
        "print('SES_med', SES_median)\n",
        "df['SES'].fillna(df.groupby(['EDUC'])['SES'].transform(\"median\"), inplace=True)"
      ],
      "id": "u2KwUctQcN9f",
      "execution_count": null,
      "outputs": [
        {
          "output_type": "stream",
          "text": [
            "SES_med EDUC\n",
            "6     4.0\n",
            "8     5.0\n",
            "11    4.0\n",
            "12    3.0\n",
            "13    2.0\n",
            "14    3.0\n",
            "15    2.0\n",
            "16    2.0\n",
            "17    1.0\n",
            "18    2.0\n",
            "20    1.0\n",
            "23    1.0\n",
            "Name: SES, dtype: float64\n"
          ],
          "name": "stdout"
        }
      ]
    },
    {
      "cell_type": "code",
      "metadata": {
        "id": "v1Y98ysP4QbI"
      },
      "source": [
        "df['MMSE'].fillna(0, inplace = True)"
      ],
      "id": "v1Y98ysP4QbI",
      "execution_count": null,
      "outputs": []
    },
    {
      "cell_type": "code",
      "metadata": {
        "colab": {
          "base_uri": "https://localhost:8080/"
        },
        "id": "5ZWTyLCszOea",
        "outputId": "ecd2dd2a-1c1d-47a5-81d5-eebdc1962eeb"
      },
      "source": [
        "df.isnull().sum()"
      ],
      "id": "5ZWTyLCszOea",
      "execution_count": null,
      "outputs": [
        {
          "output_type": "execute_result",
          "data": {
            "text/plain": [
              "Subject ID    0\n",
              "Group         0\n",
              "Visit         0\n",
              "MR Delay      0\n",
              "M/F           0\n",
              "Age           0\n",
              "EDUC          0\n",
              "SES           0\n",
              "MMSE          0\n",
              "CDR           0\n",
              "eTIV          0\n",
              "nWBV          0\n",
              "ASF           0\n",
              "dtype: int64"
            ]
          },
          "metadata": {
            "tags": []
          },
          "execution_count": 10
        }
      ]
    },
    {
      "cell_type": "markdown",
      "metadata": {
        "id": "PBdZi8DmepB3"
      },
      "source": [
        "**SES: SocioEconomicStatus**\n",
        "**EDUC: YearofEducation**\n",
        "**Since the SES is a discrete variable, we use median for the imputation.**"
      ],
      "id": "PBdZi8DmepB3"
    },
    {
      "cell_type": "code",
      "metadata": {
        "colab": {
          "base_uri": "https://localhost:8080/"
        },
        "id": "jlLOyrFteyT8",
        "outputId": "02ad0378-bf7b-4db9-dd04-bc1e6c960831"
      },
      "source": [
        "df['Group'].value_counts()"
      ],
      "id": "jlLOyrFteyT8",
      "execution_count": null,
      "outputs": [
        {
          "output_type": "execute_result",
          "data": {
            "text/plain": [
              "0    190\n",
              "1    183\n",
              "Name: Group, dtype: int64"
            ]
          },
          "metadata": {
            "tags": []
          },
          "execution_count": 11
        }
      ]
    },
    {
      "cell_type": "markdown",
      "metadata": {
        "id": "intelligent-worse"
      },
      "source": [
        "#### Identify feature and target and split it into train test"
      ],
      "id": "intelligent-worse"
    },
    {
      "cell_type": "code",
      "metadata": {
        "id": "artificial-declaration",
        "colab": {
          "base_uri": "https://localhost:8080/"
        },
        "outputId": "c92bc697-db97-4057-e920-09ae4fdb246a"
      },
      "source": [
        "# YOUR CODE HERE\n",
        "X = df[['M/F', 'Age', 'EDUC', 'SES', 'MMSE', 'eTIV', 'nWBV', 'ASF']] # Features we use\n",
        "y = df['Group'].values # Target for the model\n",
        "\n",
        "X_trainval, X_test, y_trainval, y_test = train_test_split(X, y, test_size = 0.3, random_state=0)\n",
        "X_trainval.shape, y_test.shape"
      ],
      "id": "artificial-declaration",
      "execution_count": null,
      "outputs": [
        {
          "output_type": "execute_result",
          "data": {
            "text/plain": [
              "((261, 8), (112,))"
            ]
          },
          "metadata": {
            "tags": []
          },
          "execution_count": 12
        }
      ]
    },
    {
      "cell_type": "code",
      "metadata": {
        "id": "funCTQaMhwVh"
      },
      "source": [
        "# Feature scaling\n",
        "scaler = MinMaxScaler().fit(X_trainval)\n",
        "X_trainval_scaled = scaler.transform(X_trainval)\n",
        "X_test_scaled = scaler.transform(X_test)"
      ],
      "id": "funCTQaMhwVh",
      "execution_count": null,
      "outputs": []
    },
    {
      "cell_type": "markdown",
      "metadata": {
        "id": "hispanic-reply"
      },
      "source": [
        "### EDA &  Visualization"
      ],
      "id": "hispanic-reply"
    },
    {
      "cell_type": "markdown",
      "metadata": {
        "id": "coordinate-domain"
      },
      "source": [
        "#### Plot the distribution of all the variables using a histogram"
      ],
      "id": "coordinate-domain"
    },
    {
      "cell_type": "code",
      "metadata": {
        "id": "normal-artist"
      },
      "source": [
        "# YOUR CODE HERE\n",
        "def bar_chart(feature):\n",
        "    Demented = df[df['Group']==1][feature].value_counts()\n",
        "    Nondemented = df[df['Group']==0][feature].value_counts()\n",
        "    df_bar = pd.DataFrame([Demented,Nondemented])\n",
        "    df_bar.index = ['Demented','Nondemented']\n",
        "    df_bar.plot(kind='bar',stacked= False, figsize=(8,5))"
      ],
      "id": "normal-artist",
      "execution_count": null,
      "outputs": []
    },
    {
      "cell_type": "code",
      "metadata": {
        "colab": {
          "base_uri": "https://localhost:8080/",
          "height": 429
        },
        "id": "o-E9c_nXif1d",
        "outputId": "7746eec4-fffd-4ad5-9ffe-74e275819190"
      },
      "source": [
        "# Gender  and  Group ( Female=0, Male=1)\n",
        "bar_chart('M/F')\n",
        "plt.xlabel('Group')\n",
        "plt.ylabel('Number of patients')\n",
        "plt.legend()\n",
        "plt.title('Gender and Demented rate')"
      ],
      "id": "o-E9c_nXif1d",
      "execution_count": null,
      "outputs": [
        {
          "output_type": "execute_result",
          "data": {
            "text/plain": [
              "Text(0.5, 1.0, 'Gender and Demented rate')"
            ]
          },
          "metadata": {
            "tags": []
          },
          "execution_count": 15
        },
        {
          "output_type": "display_data",
          "data": {
            "image/png": "[encoded data removed]",
            "text/plain": [
              "<Figure size 576x360 with 1 Axes>"
            ]
          },
          "metadata": {
            "tags": [],
            "needs_background": "light"
          }
        }
      ]
    },
    {
      "cell_type": "markdown",
      "metadata": {
        "id": "NGNKPL-vja1v"
      },
      "source": [
        "**The graph indicates that men are more likely with dementia than women.**"
      ],
      "id": "NGNKPL-vja1v"
    },
    {
      "cell_type": "code",
      "metadata": {
        "colab": {
          "base_uri": "https://localhost:8080/",
          "height": 429
        },
        "id": "dqzHPLnPimfv",
        "outputId": "e856adef-f065-4435-dc6e-45cf1780bfa5"
      },
      "source": [
        "# Year of Education 'EDUC' \n",
        "bar_chart('EDUC')\n",
        "plt.xlabel('Group')\n",
        "plt.ylabel('Number of patients')\n",
        "plt.legend()\n",
        "plt.title('Year of Education and Demented rate')"
      ],
      "id": "dqzHPLnPimfv",
      "execution_count": null,
      "outputs": [
        {
          "output_type": "execute_result",
          "data": {
            "text/plain": [
              "Text(0.5, 1.0, 'Year of Education and Demented rate')"
            ]
          },
          "metadata": {
            "tags": []
          },
          "execution_count": 16
        },
        {
          "output_type": "display_data",
          "data": {
            "image/png": "[encoded data removed]",
            "text/plain": [
              "<Figure size 576x360 with 1 Axes>"
            ]
          },
          "metadata": {
            "tags": [],
            "needs_background": "light"
          }
        }
      ]
    },
    {
      "cell_type": "markdown",
      "metadata": {
        "id": "gKDzPfynkpZ3"
      },
      "source": [
        "**Demented patients were less educated in terms of years of education.**"
      ],
      "id": "gKDzPfynkpZ3"
    },
    {
      "cell_type": "code",
      "metadata": {
        "colab": {
          "base_uri": "https://localhost:8080/",
          "height": 429
        },
        "id": "09M0xDl7jENB",
        "outputId": "07bce0aa-9df7-49e7-c971-50c52009642b"
      },
      "source": [
        "# SocioEconomic Sataus 'SES' \n",
        "bar_chart('SES')\n",
        "plt.xlabel('Group')\n",
        "plt.ylabel('Number of patients')\n",
        "plt.legend()\n",
        "plt.title('SocioEconomic Sataus and Demented rate')"
      ],
      "id": "09M0xDl7jENB",
      "execution_count": null,
      "outputs": [
        {
          "output_type": "execute_result",
          "data": {
            "text/plain": [
              "Text(0.5, 1.0, 'SocioEconomic Sataus and Demented rate')"
            ]
          },
          "metadata": {
            "tags": []
          },
          "execution_count": 17
        },
        {
          "output_type": "display_data",
          "data": {
            "image/png": "[encoded data removed]",
            "text/plain": [
              "<Figure size 576x360 with 1 Axes>"
            ]
          },
          "metadata": {
            "tags": [],
            "needs_background": "light"
          }
        }
      ]
    },
    {
      "cell_type": "markdown",
      "metadata": {
        "id": "z92WzSVla8Mx"
      },
      "source": [
        "**At lowest level of socio economic status there is a highest probability of dementia which may be due to lower economic condition which results in depression, sufferings which in turn results in dementia.**"
      ],
      "id": "z92WzSVla8Mx"
    },
    {
      "cell_type": "code",
      "metadata": {
        "colab": {
          "base_uri": "https://localhost:8080/",
          "height": 433
        },
        "id": "tb0SXf8boDjQ",
        "outputId": "59008748-93c1-4f62-ee39-45394e83bd3d"
      },
      "source": [
        "bar_chart('MMSE')\n",
        "plt.xlabel('Group')\n",
        "plt.ylabel('Number of patients')\n",
        "plt.legend()\n",
        "plt.title('Mini-Mental State Examination score and Demented rate')"
      ],
      "id": "tb0SXf8boDjQ",
      "execution_count": null,
      "outputs": [
        {
          "output_type": "execute_result",
          "data": {
            "text/plain": [
              "Text(0.5, 1.0, 'Mini-Mental State Examination score and Demented rate')"
            ]
          },
          "metadata": {
            "tags": []
          },
          "execution_count": 18
        },
        {
          "output_type": "display_data",
          "data": {
            "image/png": "[encoded data removed]",
            "text/plain": [
              "<Figure size 576x360 with 1 Axes>"
            ]
          },
          "metadata": {
            "tags": [],
            "needs_background": "light"
          }
        }
      ]
    },
    {
      "cell_type": "code",
      "metadata": {
        "colab": {
          "base_uri": "https://localhost:8080/"
        },
        "id": "KeRTDLjJdrFv",
        "outputId": "f57afc4c-7bdd-4b22-bb99-26e819db86e3"
      },
      "source": [
        "df['MMSE'].describe()"
      ],
      "id": "KeRTDLjJdrFv",
      "execution_count": null,
      "outputs": [
        {
          "output_type": "execute_result",
          "data": {
            "text/plain": [
              "count    373.000000\n",
              "mean      27.195710\n",
              "std        4.182244\n",
              "min        0.000000\n",
              "25%       27.000000\n",
              "50%       29.000000\n",
              "75%       30.000000\n",
              "max       30.000000\n",
              "Name: MMSE, dtype: float64"
            ]
          },
          "metadata": {
            "tags": []
          },
          "execution_count": 19
        }
      ]
    },
    {
      "cell_type": "code",
      "metadata": {
        "id": "a78tcUAwdiz9"
      },
      "source": [
        "# Categorizing feature MMSE\n",
        "def category_MMSE(n):\n",
        "    if n >= 24:\n",
        "        return 'Normal'\n",
        "    elif n <= 9:\n",
        "        return 'Severe'\n",
        "    elif n >= 10 and n <= 18:\n",
        "        return 'Moderate'\n",
        "    elif n >= 19 and n <= 23:                                        # As we have no cases of sever dementia CDR score=3\n",
        "        return 'Mild'\n",
        "\n",
        "df['MMSE_new'] = df['MMSE'].apply(lambda x: category_MMSE(x))"
      ],
      "id": "a78tcUAwdiz9",
      "execution_count": null,
      "outputs": []
    },
    {
      "cell_type": "markdown",
      "metadata": {
        "id": "minimal-latest"
      },
      "source": [
        "#### Visualize the frequency of Age"
      ],
      "id": "minimal-latest"
    },
    {
      "cell_type": "code",
      "metadata": {
        "colab": {
          "base_uri": "https://localhost:8080/"
        },
        "id": "q2kcJhNVTngy",
        "outputId": "b37a76a9-bbd2-441e-e67e-2bcdb5ab5c5f"
      },
      "source": [
        "df['age_group'] = pd.cut(df['Age'], [60, 70, 80,90, 100], labels=['60-70', '70-80', '80-90','90-100'])\n",
        "df['age_group'].value_counts()"
      ],
      "id": "q2kcJhNVTngy",
      "execution_count": null,
      "outputs": [
        {
          "output_type": "execute_result",
          "data": {
            "text/plain": [
              "70-80     173\n",
              "80-90     107\n",
              "60-70      75\n",
              "90-100     16\n",
              "Name: age_group, dtype: int64"
            ]
          },
          "metadata": {
            "tags": []
          },
          "execution_count": 21
        }
      ]
    },
    {
      "cell_type": "code",
      "metadata": {
        "colab": {
          "base_uri": "https://localhost:8080/",
          "height": 350
        },
        "id": "vkl35Wj-XZ-t",
        "outputId": "c7bc318c-4352-4580-c11c-7360c78dd1e7"
      },
      "source": [
        "fig, ax = plt.subplots(figsize=(5,5))\n",
        "sns.countplot(x=\"age_group\", data = df)\n",
        "ax.set(xlabel = 'Age')\n",
        "ax.set(ylabel = 'Count')\n",
        "ax.set(title ='The count of the Age')\n",
        "plt.show()"
      ],
      "id": "vkl35Wj-XZ-t",
      "execution_count": null,
      "outputs": [
        {
          "output_type": "display_data",
          "data": {
            "image/png": "[encoded data removed]",
            "text/plain": [
              "<Figure size 360x360 with 1 Axes>"
            ]
          },
          "metadata": {
            "tags": [],
            "needs_background": "light"
          }
        }
      ]
    },
    {
      "cell_type": "markdown",
      "metadata": {
        "id": "5m_O6M3MkRkQ"
      },
      "source": [
        "**There is a higher concentration of 70-80 years old in the Demented patient group than those in the nondemented patients. We guess patients who suffered from that kind of disease has lower survival rate so that there are a few of 90 years old.**"
      ],
      "id": "5m_O6M3MkRkQ"
    },
    {
      "cell_type": "code",
      "metadata": {
        "colab": {
          "base_uri": "https://localhost:8080/"
        },
        "id": "u_96X0PDYtp2",
        "outputId": "69736fd6-63cd-41b7-d0e9-7a9a244e243b"
      },
      "source": [
        "df['CDR'].describe()"
      ],
      "id": "u_96X0PDYtp2",
      "execution_count": null,
      "outputs": [
        {
          "output_type": "execute_result",
          "data": {
            "text/plain": [
              "count    373.000000\n",
              "mean       0.290885\n",
              "std        0.374557\n",
              "min        0.000000\n",
              "25%        0.000000\n",
              "50%        0.000000\n",
              "75%        0.500000\n",
              "max        2.000000\n",
              "Name: CDR, dtype: float64"
            ]
          },
          "metadata": {
            "tags": []
          },
          "execution_count": 23
        }
      ]
    },
    {
      "cell_type": "markdown",
      "metadata": {
        "id": "54N-H9eAZ5Hu"
      },
      "source": [
        "**CDR™ Scoring Algorithm. This score is useful for characterizing and tracking a patient’s level of impairment/dementia:**\n",
        "\n",
        "0 = Normal\n",
        "0.5 = Very Mild Dementia or Questionable\n",
        "1 = Mild Dementia\n",
        "2 = Moderate Dementia\n",
        "3 = Severe Dementia**\n",
        "\n",
        "Information was taken from The Charles F. and Joanne Knight Alzheimer’s Disease Research Center website."
      ],
      "id": "54N-H9eAZ5Hu"
    },
    {
      "cell_type": "code",
      "metadata": {
        "id": "tze8gyHLY2M7"
      },
      "source": [
        "# Categorizing feature CDR\n",
        "def category_CDR(n):\n",
        "    if n == 0:\n",
        "        return 'Normal'\n",
        "    \n",
        "    else:                                         # As we have no cases of sever dementia CDR score=3\n",
        "        return 'Dementia'\n",
        "\n",
        "df['CDR_new'] = df['CDR'].apply(lambda x: category_CDR(x))"
      ],
      "id": "tze8gyHLY2M7",
      "execution_count": null,
      "outputs": []
    },
    {
      "cell_type": "code",
      "metadata": {
        "colab": {
          "base_uri": "https://localhost:8080/",
          "height": 497
        },
        "id": "ODH8AymSYBZt",
        "outputId": "c8654424-7d6e-49e4-ab94-04947600e92b"
      },
      "source": [
        "plt.figure(figsize=(12, 8))\n",
        "ax = sns.violinplot(x=\"M/F\", y=\"Age\",hue=\"CDR_new\",split=True, data=df)\n",
        "plt.show()"
      ],
      "id": "ODH8AymSYBZt",
      "execution_count": null,
      "outputs": [
        {
          "output_type": "display_data",
          "data": {
            "image/png": "[encoded data removed]",
            "text/plain": [
              "<Figure size 864x576 with 1 Axes>"
            ]
          },
          "metadata": {
            "tags": [],
            "needs_background": "light"
          }
        }
      ]
    },
    {
      "cell_type": "markdown",
      "metadata": {
        "id": "7VDuCdI2ZW26"
      },
      "source": [
        "**As we can observe from the above plot, in case of Male most number of dementia cases are reported in the age of around 80 years while in case of females dementia is prevalent in 75 years of Age. One more observation suggests that in case of Males dementia starts early even before 60 years of age while in case of females demetia generally after 60 years of age.**"
      ],
      "id": "7VDuCdI2ZW26"
    },
    {
      "cell_type": "code",
      "metadata": {
        "colab": {
          "base_uri": "https://localhost:8080/",
          "height": 497
        },
        "id": "byV989DDailm",
        "outputId": "1925bc30-ff07-400e-f4cc-c6652f3474bc"
      },
      "source": [
        "plt.figure(figsize=(12, 8))\n",
        "ax = sns.violinplot(x=\"M/F\", y=\"EDUC\",hue=\"CDR_new\",split=True, data=df)\n",
        "plt.show()"
      ],
      "id": "byV989DDailm",
      "execution_count": null,
      "outputs": [
        {
          "output_type": "display_data",
          "data": {
            "image/png": "[encoded data removed]",
            "text/plain": [
              "<Figure size 864x576 with 1 Axes>"
            ]
          },
          "metadata": {
            "tags": [],
            "needs_background": "light"
          }
        }
      ]
    },
    {
      "cell_type": "markdown",
      "metadata": {
        "id": "bZOsae2kan3t"
      },
      "source": [
        "**We can observe from the above plot,Mens having education level between 10 and 17 have higher level of dementia cases and mens started to show dymentia symptoms with less education levels starting from 4 years whereas females starts showing dymentia symptoms after 6 years of education level having highest peak at 13 years of age.**"
      ],
      "id": "bZOsae2kan3t"
    },
    {
      "cell_type": "code",
      "metadata": {
        "colab": {
          "base_uri": "https://localhost:8080/",
          "height": 497
        },
        "id": "1JDa3V4QbNNX",
        "outputId": "1dc9e092-ee35-4724-c53e-f23603044e07"
      },
      "source": [
        "plt.figure(figsize=(12, 8))\n",
        "ax = sns.violinplot(x=\"M/F\", y=\"SES\",hue=\"CDR_new\",split=True, data=df)\n",
        "plt.show()"
      ],
      "id": "1JDa3V4QbNNX",
      "execution_count": null,
      "outputs": [
        {
          "output_type": "display_data",
          "data": {
            "image/png": "[encoded data removed]",
            "text/plain": [
              "<Figure size 864x576 with 1 Axes>"
            ]
          },
          "metadata": {
            "tags": [],
            "needs_background": "light"
          }
        }
      ]
    },
    {
      "cell_type": "markdown",
      "metadata": {
        "id": "RfWba92_bo_7"
      },
      "source": [
        "**Interesting pattern observed from the above plot that in mens there are two peaks of highest dementia cases one at 1 (Highest status) and 4(lower status) and in between 1 and 4 there less instances of dementia cases whereas in case of females highest peak is at 3 whereas at 1 and 5 there are slightly less dementia cases reported.\n",
        "It suggests that womens have less dementia probability at extreme higher and extreme lower level of socio economic status while mens have exactly opposite phenomenon.**"
      ],
      "id": "RfWba92_bo_7"
    },
    {
      "cell_type": "code",
      "metadata": {
        "colab": {
          "base_uri": "https://localhost:8080/",
          "height": 498
        },
        "id": "aXsLOd6cdGTQ",
        "outputId": "11aa4b3c-14f4-4d3f-c795-106225b70f4a"
      },
      "source": [
        "plt.figure(figsize=(12, 8))\n",
        "ax = sns.violinplot(x=\"MMSE_new\", y=\"Visit\",split=True, data=df)\n",
        "plt.show()"
      ],
      "id": "aXsLOd6cdGTQ",
      "execution_count": null,
      "outputs": [
        {
          "output_type": "display_data",
          "data": {
            "image/png": "[encoded data removed]",
            "text/plain": [
              "<Figure size 864x576 with 1 Axes>"
            ]
          },
          "metadata": {
            "tags": [],
            "needs_background": "light"
          }
        }
      ]
    },
    {
      "cell_type": "markdown",
      "metadata": {
        "id": "-zRpzAUKdYKQ"
      },
      "source": [
        "**Severe Dementia cases starts reporting as the number of visits increases to more than 3 whereas normal cases are also reported after higher number of visits more than 3 but they are very few in number.**"
      ],
      "id": "-zRpzAUKdYKQ"
    },
    {
      "cell_type": "markdown",
      "metadata": {
        "id": "weighted-guyana"
      },
      "source": [
        "#### How many people have Alzheimer? Visualize with an appropriate plot\n",
        "\n",
        "the same person visits two or more times; extract the single visit data and plot\n",
        "\n",
        "**Hint**: Visit = 1"
      ],
      "id": "weighted-guyana"
    },
    {
      "cell_type": "code",
      "metadata": {
        "id": "unusual-burst"
      },
      "source": [
        "# YOUR CODE HERE\n",
        "#df = df.loc[df['Visit']==1] # use first visit data only because of the analysis we're doing\n",
        "#df = df.reset_index(drop=True) # reset index after filtering first visit data\n",
        "#df['Visit'].values"
      ],
      "id": "unusual-burst",
      "execution_count": null,
      "outputs": []
    },
    {
      "cell_type": "code",
      "metadata": {
        "colab": {
          "base_uri": "https://localhost:8080/",
          "height": 423
        },
        "id": "uhjqWDu1s4k_",
        "outputId": "dba89705-f8fe-4299-da6c-1a5cd057c126"
      },
      "source": [
        "df"
      ],
      "id": "uhjqWDu1s4k_",
      "execution_count": null,
      "outputs": [
        {
          "output_type": "execute_result",
          "data": {
            "text/html": [
              "<div>\n",
              "<style scoped>\n",
              "    .dataframe tbody tr th:only-of-type {\n",
              "        vertical-align: middle;\n",
              "    }\n",
              "\n",
              "    .dataframe tbody tr th {\n",
              "        vertical-align: top;\n",
              "    }\n",
              "\n",
              "    .dataframe thead th {\n",
              "        text-align: right;\n",
              "    }\n",
              "</style>\n",
              "<table border=\"1\" class=\"dataframe\">\n",
              "  <thead>\n",
              "    <tr style=\"text-align: right;\">\n",
              "      <th></th>\n",
              "      <th>Subject ID</th>\n",
              "      <th>Group</th>\n",
              "      <th>Visit</th>\n",
              "      <th>MR Delay</th>\n",
              "      <th>M/F</th>\n",
              "      <th>Age</th>\n",
              "      <th>EDUC</th>\n",
              "      <th>SES</th>\n",
              "      <th>MMSE</th>\n",
              "      <th>CDR</th>\n",
              "      <th>eTIV</th>\n",
              "      <th>nWBV</th>\n",
              "      <th>ASF</th>\n",
              "      <th>MMSE_new</th>\n",
              "      <th>age_group</th>\n",
              "      <th>CDR_new</th>\n",
              "    </tr>\n",
              "  </thead>\n",
              "  <tbody>\n",
              "    <tr>\n",
              "      <th>0</th>\n",
              "      <td>OAS2_0001</td>\n",
              "      <td>0</td>\n",
              "      <td>1</td>\n",
              "      <td>0</td>\n",
              "      <td>1</td>\n",
              "      <td>87</td>\n",
              "      <td>14</td>\n",
              "      <td>2.0</td>\n",
              "      <td>27.0</td>\n",
              "      <td>0.0</td>\n",
              "      <td>1987</td>\n",
              "      <td>0.696</td>\n",
              "      <td>0.883</td>\n",
              "      <td>Normal</td>\n",
              "      <td>80-90</td>\n",
              "      <td>Normal</td>\n",
              "    </tr>\n",
              "    <tr>\n",
              "      <th>1</th>\n",
              "      <td>OAS2_0001</td>\n",
              "      <td>0</td>\n",
              "      <td>2</td>\n",
              "      <td>457</td>\n",
              "      <td>1</td>\n",
              "      <td>88</td>\n",
              "      <td>14</td>\n",
              "      <td>2.0</td>\n",
              "      <td>30.0</td>\n",
              "      <td>0.0</td>\n",
              "      <td>2004</td>\n",
              "      <td>0.681</td>\n",
              "      <td>0.876</td>\n",
              "      <td>Normal</td>\n",
              "      <td>80-90</td>\n",
              "      <td>Normal</td>\n",
              "    </tr>\n",
              "    <tr>\n",
              "      <th>2</th>\n",
              "      <td>OAS2_0002</td>\n",
              "      <td>1</td>\n",
              "      <td>1</td>\n",
              "      <td>0</td>\n",
              "      <td>1</td>\n",
              "      <td>75</td>\n",
              "      <td>12</td>\n",
              "      <td>3.0</td>\n",
              "      <td>23.0</td>\n",
              "      <td>0.5</td>\n",
              "      <td>1678</td>\n",
              "      <td>0.736</td>\n",
              "      <td>1.046</td>\n",
              "      <td>Mild</td>\n",
              "      <td>70-80</td>\n",
              "      <td>Dementia</td>\n",
              "    </tr>\n",
              "    <tr>\n",
              "      <th>3</th>\n",
              "      <td>OAS2_0002</td>\n",
              "      <td>1</td>\n",
              "      <td>2</td>\n",
              "      <td>560</td>\n",
              "      <td>1</td>\n",
              "      <td>76</td>\n",
              "      <td>12</td>\n",
              "      <td>3.0</td>\n",
              "      <td>28.0</td>\n",
              "      <td>0.5</td>\n",
              "      <td>1738</td>\n",
              "      <td>0.713</td>\n",
              "      <td>1.010</td>\n",
              "      <td>Normal</td>\n",
              "      <td>70-80</td>\n",
              "      <td>Dementia</td>\n",
              "    </tr>\n",
              "    <tr>\n",
              "      <th>4</th>\n",
              "      <td>OAS2_0002</td>\n",
              "      <td>1</td>\n",
              "      <td>3</td>\n",
              "      <td>1895</td>\n",
              "      <td>1</td>\n",
              "      <td>80</td>\n",
              "      <td>12</td>\n",
              "      <td>3.0</td>\n",
              "      <td>22.0</td>\n",
              "      <td>0.5</td>\n",
              "      <td>1698</td>\n",
              "      <td>0.701</td>\n",
              "      <td>1.034</td>\n",
              "      <td>Mild</td>\n",
              "      <td>70-80</td>\n",
              "      <td>Dementia</td>\n",
              "    </tr>\n",
              "    <tr>\n",
              "      <th>...</th>\n",
              "      <td>...</td>\n",
              "      <td>...</td>\n",
              "      <td>...</td>\n",
              "      <td>...</td>\n",
              "      <td>...</td>\n",
              "      <td>...</td>\n",
              "      <td>...</td>\n",
              "      <td>...</td>\n",
              "      <td>...</td>\n",
              "      <td>...</td>\n",
              "      <td>...</td>\n",
              "      <td>...</td>\n",
              "      <td>...</td>\n",
              "      <td>...</td>\n",
              "      <td>...</td>\n",
              "      <td>...</td>\n",
              "    </tr>\n",
              "    <tr>\n",
              "      <th>368</th>\n",
              "      <td>OAS2_0185</td>\n",
              "      <td>1</td>\n",
              "      <td>2</td>\n",
              "      <td>842</td>\n",
              "      <td>1</td>\n",
              "      <td>82</td>\n",
              "      <td>16</td>\n",
              "      <td>1.0</td>\n",
              "      <td>28.0</td>\n",
              "      <td>0.5</td>\n",
              "      <td>1693</td>\n",
              "      <td>0.694</td>\n",
              "      <td>1.037</td>\n",
              "      <td>Normal</td>\n",
              "      <td>80-90</td>\n",
              "      <td>Dementia</td>\n",
              "    </tr>\n",
              "    <tr>\n",
              "      <th>369</th>\n",
              "      <td>OAS2_0185</td>\n",
              "      <td>1</td>\n",
              "      <td>3</td>\n",
              "      <td>2297</td>\n",
              "      <td>1</td>\n",
              "      <td>86</td>\n",
              "      <td>16</td>\n",
              "      <td>1.0</td>\n",
              "      <td>26.0</td>\n",
              "      <td>0.5</td>\n",
              "      <td>1688</td>\n",
              "      <td>0.675</td>\n",
              "      <td>1.040</td>\n",
              "      <td>Normal</td>\n",
              "      <td>80-90</td>\n",
              "      <td>Dementia</td>\n",
              "    </tr>\n",
              "    <tr>\n",
              "      <th>370</th>\n",
              "      <td>OAS2_0186</td>\n",
              "      <td>0</td>\n",
              "      <td>1</td>\n",
              "      <td>0</td>\n",
              "      <td>0</td>\n",
              "      <td>61</td>\n",
              "      <td>13</td>\n",
              "      <td>2.0</td>\n",
              "      <td>30.0</td>\n",
              "      <td>0.0</td>\n",
              "      <td>1319</td>\n",
              "      <td>0.801</td>\n",
              "      <td>1.331</td>\n",
              "      <td>Normal</td>\n",
              "      <td>60-70</td>\n",
              "      <td>Normal</td>\n",
              "    </tr>\n",
              "    <tr>\n",
              "      <th>371</th>\n",
              "      <td>OAS2_0186</td>\n",
              "      <td>0</td>\n",
              "      <td>2</td>\n",
              "      <td>763</td>\n",
              "      <td>0</td>\n",
              "      <td>63</td>\n",
              "      <td>13</td>\n",
              "      <td>2.0</td>\n",
              "      <td>30.0</td>\n",
              "      <td>0.0</td>\n",
              "      <td>1327</td>\n",
              "      <td>0.796</td>\n",
              "      <td>1.323</td>\n",
              "      <td>Normal</td>\n",
              "      <td>60-70</td>\n",
              "      <td>Normal</td>\n",
              "    </tr>\n",
              "    <tr>\n",
              "      <th>372</th>\n",
              "      <td>OAS2_0186</td>\n",
              "      <td>0</td>\n",
              "      <td>3</td>\n",
              "      <td>1608</td>\n",
              "      <td>0</td>\n",
              "      <td>65</td>\n",
              "      <td>13</td>\n",
              "      <td>2.0</td>\n",
              "      <td>30.0</td>\n",
              "      <td>0.0</td>\n",
              "      <td>1333</td>\n",
              "      <td>0.801</td>\n",
              "      <td>1.317</td>\n",
              "      <td>Normal</td>\n",
              "      <td>60-70</td>\n",
              "      <td>Normal</td>\n",
              "    </tr>\n",
              "  </tbody>\n",
              "</table>\n",
              "<p>373 rows × 16 columns</p>\n",
              "</div>"
            ],
            "text/plain": [
              "    Subject ID  Group  Visit  MR Delay  ...    ASF  MMSE_new  age_group   CDR_new\n",
              "0    OAS2_0001      0      1         0  ...  0.883    Normal      80-90    Normal\n",
              "1    OAS2_0001      0      2       457  ...  0.876    Normal      80-90    Normal\n",
              "2    OAS2_0002      1      1         0  ...  1.046      Mild      70-80  Dementia\n",
              "3    OAS2_0002      1      2       560  ...  1.010    Normal      70-80  Dementia\n",
              "4    OAS2_0002      1      3      1895  ...  1.034      Mild      70-80  Dementia\n",
              "..         ...    ...    ...       ...  ...    ...       ...        ...       ...\n",
              "368  OAS2_0185      1      2       842  ...  1.037    Normal      80-90  Dementia\n",
              "369  OAS2_0185      1      3      2297  ...  1.040    Normal      80-90  Dementia\n",
              "370  OAS2_0186      0      1         0  ...  1.331    Normal      60-70    Normal\n",
              "371  OAS2_0186      0      2       763  ...  1.323    Normal      60-70    Normal\n",
              "372  OAS2_0186      0      3      1608  ...  1.317    Normal      60-70    Normal\n",
              "\n",
              "[373 rows x 16 columns]"
            ]
          },
          "metadata": {
            "tags": []
          },
          "execution_count": 30
        }
      ]
    },
    {
      "cell_type": "code",
      "metadata": {
        "id": "royal-address",
        "colab": {
          "base_uri": "https://localhost:8080/",
          "height": 429
        },
        "outputId": "dc9ff0d9-4465-4689-ed01-fcc64447af3f"
      },
      "source": [
        "# YOUR CODE HERE\n",
        "bar_chart('Visit')\n",
        "plt.xlabel('Group')\n",
        "plt.ylabel('Number of patients')\n",
        "plt.legend()\n",
        "plt.title('Visit and Demented rate')"
      ],
      "id": "royal-address",
      "execution_count": null,
      "outputs": [
        {
          "output_type": "execute_result",
          "data": {
            "text/plain": [
              "Text(0.5, 1.0, 'Visit and Demented rate')"
            ]
          },
          "metadata": {
            "tags": []
          },
          "execution_count": 31
        },
        {
          "output_type": "display_data",
          "data": {
            "image/png": "[encoded data removed]",
            "text/plain": [
              "<Figure size 576x360 with 1 Axes>"
            ]
          },
          "metadata": {
            "tags": [],
            "needs_background": "light"
          }
        }
      ]
    },
    {
      "cell_type": "markdown",
      "metadata": {
        "id": "welcome-arbitration"
      },
      "source": [
        "#### Calculate the correlation of features and plot the heatmap"
      ],
      "id": "welcome-arbitration"
    },
    {
      "cell_type": "code",
      "metadata": {
        "colab": {
          "base_uri": "https://localhost:8080/",
          "height": 505
        },
        "id": "HSsQLNsNsJpR",
        "outputId": "164b5e00-7305-471f-f605-7da4539e676c"
      },
      "source": [
        "corr = df.corr()\n",
        "plt.figure(figsize=(10,8))\n",
        "sns.heatmap(corr, annot=True, fmt=\".2g\")"
      ],
      "id": "HSsQLNsNsJpR",
      "execution_count": null,
      "outputs": [
        {
          "output_type": "execute_result",
          "data": {
            "text/plain": [
              "<matplotlib.axes._subplots.AxesSubplot at 0x7f35ce1ef550>"
            ]
          },
          "metadata": {
            "tags": []
          },
          "execution_count": 32
        },
        {
          "output_type": "display_data",
          "data": {
            "image/png": "[encoded data removed]",
            "text/plain": [
              "<Figure size 720x576 with 2 Axes>"
            ]
          },
          "metadata": {
            "tags": [],
            "needs_background": "light"
          }
        }
      ]
    },
    {
      "cell_type": "markdown",
      "metadata": {
        "id": "AuD8S5OcjaXL"
      },
      "source": [
        "**As we can see Visit and MR Delay are showing close correlation to 0.92 but for analysis and prediction we are not dropping any correlated variable as of now.**"
      ],
      "id": "AuD8S5OcjaXL"
    },
    {
      "cell_type": "markdown",
      "metadata": {
        "id": "subject-pitch"
      },
      "source": [
        "### Model training and evaluation\n",
        "\n",
        "**Hint:** SVM model from sklearn"
      ],
      "id": "subject-pitch"
    },
    {
      "cell_type": "code",
      "metadata": {
        "colab": {
          "base_uri": "https://localhost:8080/"
        },
        "id": "O0Pwzk4P4fqL",
        "outputId": "4bc5338a-3a9b-49b8-83f4-7a93d5d2a3af"
      },
      "source": [
        "X = df[['Visit', 'M/F', 'Age', 'EDUC', 'SES', 'MMSE', 'eTIV', 'nWBV', 'ASF']] # Features we use\n",
        "y = df['Group'].values # Target for the model\n",
        "\n",
        "X_trainval, X_test, y_trainval, y_test = train_test_split(X, y, test_size = 0.3, random_state=0)\n",
        "X_trainval.shape, y_test.shape"
      ],
      "id": "O0Pwzk4P4fqL",
      "execution_count": null,
      "outputs": [
        {
          "output_type": "execute_result",
          "data": {
            "text/plain": [
              "((261, 9), (112,))"
            ]
          },
          "metadata": {
            "tags": []
          },
          "execution_count": 33
        }
      ]
    },
    {
      "cell_type": "code",
      "metadata": {
        "colab": {
          "base_uri": "https://localhost:8080/"
        },
        "id": "DSyleQEX4sQ3",
        "outputId": "28da8838-d233-4b71-9689-42db059bfe54"
      },
      "source": [
        "scaler = MinMaxScaler().fit(X_trainval)\n",
        "X_trainval_scaled = scaler.transform(X_trainval)\n",
        "X_test_scaled = scaler.transform(X_test)\n",
        "X_trainval_scaled.shape, X_test_scaled.shape"
      ],
      "id": "DSyleQEX4sQ3",
      "execution_count": null,
      "outputs": [
        {
          "output_type": "execute_result",
          "data": {
            "text/plain": [
              "((261, 9), (112, 9))"
            ]
          },
          "metadata": {
            "tags": []
          },
          "execution_count": 34
        }
      ]
    },
    {
      "cell_type": "code",
      "metadata": {
        "id": "superb-invasion",
        "colab": {
          "base_uri": "https://localhost:8080/"
        },
        "outputId": "25feeaba-8371-4290-f30e-fb6be1175c6d"
      },
      "source": [
        "# YOUR CODE HERE\n",
        "from sklearn.svm import SVC, LinearSVC\n",
        "# kernel = 'linear' is used on data which is separable\n",
        "classifier = SVC(kernel='linear', random_state=0)  \n",
        "classifier.fit(X_trainval_scaled, y_trainval)"
      ],
      "id": "superb-invasion",
      "execution_count": null,
      "outputs": [
        {
          "output_type": "execute_result",
          "data": {
            "text/plain": [
              "SVC(C=1.0, break_ties=False, cache_size=200, class_weight=None, coef0=0.0,\n",
              "    decision_function_shape='ovr', degree=3, gamma='scale', kernel='linear',\n",
              "    max_iter=-1, probability=False, random_state=0, shrinking=True, tol=0.001,\n",
              "    verbose=False)"
            ]
          },
          "metadata": {
            "tags": []
          },
          "execution_count": 35
        }
      ]
    },
    {
      "cell_type": "code",
      "metadata": {
        "id": "eytk2LyXn7h2",
        "colab": {
          "base_uri": "https://localhost:8080/"
        },
        "outputId": "3e64166b-f003-4a3f-ec7a-c143b85a45b9"
      },
      "source": [
        "# YOUR CODE HERE\n",
        "y_pred = classifier.predict(X_test_scaled)   \n",
        "print(\"Predicted values \",y_pred)  "
      ],
      "id": "eytk2LyXn7h2",
      "execution_count": null,
      "outputs": [
        {
          "output_type": "stream",
          "text": [
            "Predicted values  [1 0 0 0 0 1 1 1 0 0 1 0 0 0 1 0 1 0 1 1 1 0 1 0 1 1 1 1 0 1 0 0 0 1 1 0 1\n",
            " 1 0 1 1 0 0 0 0 1 1 0 1 0 1 1 1 1 0 0 1 1 0 1 0 0 1 1 0 0 0 0 1 0 0 1 1 1\n",
            " 1 0 0 0 0 0 1 0 1 0 0 0 1 0 0 1 1 1 1 0 0 0 1 0 0 1 1 0 0 0 1 1 1 0 0 1 0\n",
            " 1]\n"
          ],
          "name": "stdout"
        }
      ]
    },
    {
      "cell_type": "code",
      "metadata": {
        "colab": {
          "base_uri": "https://localhost:8080/"
        },
        "id": "iFP3P-Te1vik",
        "outputId": "0b82910a-1a25-4a8a-cd2f-cc883486e1a1"
      },
      "source": [
        "# confusion matrix between true values and predicted outcomes for first model\n",
        "cm = confusion_matrix(y_test, y_pred)   \n",
        "cm"
      ],
      "id": "iFP3P-Te1vik",
      "execution_count": null,
      "outputs": [
        {
          "output_type": "execute_result",
          "data": {
            "text/plain": [
              "array([[39, 20],\n",
              "       [19, 34]])"
            ]
          },
          "metadata": {
            "tags": []
          },
          "execution_count": 37
        }
      ]
    },
    {
      "cell_type": "code",
      "metadata": {
        "colab": {
          "base_uri": "https://localhost:8080/"
        },
        "id": "LE5nCxKD2EJc",
        "outputId": "e17af247-70f6-4d84-c784-b286ac54ad29"
      },
      "source": [
        "# calculating the accuracy \n",
        "accuracy_score(y_test, y_pred)"
      ],
      "id": "LE5nCxKD2EJc",
      "execution_count": null,
      "outputs": [
        {
          "output_type": "execute_result",
          "data": {
            "text/plain": [
              "0.6517857142857143"
            ]
          },
          "metadata": {
            "tags": []
          },
          "execution_count": 38
        }
      ]
    },
    {
      "cell_type": "code",
      "metadata": {
        "colab": {
          "base_uri": "https://localhost:8080/"
        },
        "id": "7pC6Wmdt_KEj",
        "outputId": "e5d02ee4-d33b-4a08-b382-8f9c24999d00"
      },
      "source": [
        "# Make a pipeline of Scaling and SVM\n",
        "from sklearn.pipeline import make_pipeline\n",
        "from sklearn.preprocessing import StandardScaler\n",
        "print(\"The Pipeline model\")\n",
        "clf = make_pipeline(LinearSVC(random_state=0, tol=1e-5))\n",
        "clf.fit(X_trainval_scaled, y_trainval)\n",
        "y_pred2 = clf.predict(X_test)   \n",
        "print(\"Predicted values with pipeline\",y_pred2) \n",
        "cm = confusion_matrix(y_test, y_pred2)   \n",
        "print('The confusion matrix for pipeline model\\n', cm)\n",
        "print('The acuracy for pipeline model:', accuracy_score(y_test, y_pred2))"
      ],
      "id": "7pC6Wmdt_KEj",
      "execution_count": null,
      "outputs": [
        {
          "output_type": "stream",
          "text": [
            "The Pipeline model\n",
            "Predicted values with pipeline [1 1 1 1 1 1 1 1 1 1 1 1 1 1 1 1 1 1 1 1 1 1 1 1 1 1 1 1 1 1 1 1 1 1 1 1 1\n",
            " 1 1 1 1 1 1 1 1 1 1 1 1 1 1 1 1 1 1 1 1 1 1 1 1 1 1 1 1 1 1 1 1 1 1 1 1 1\n",
            " 1 1 1 1 1 1 1 1 1 1 1 1 1 1 1 1 1 1 1 1 1 1 1 1 1 1 1 1 1 1 1 1 1 1 1 1 1\n",
            " 1]\n",
            "The confusion matrix for pipeline model\n",
            " [[ 0 59]\n",
            " [ 0 53]]\n",
            "The acuracy for pipeline model: 0.4732142857142857\n"
          ],
          "name": "stdout"
        }
      ]
    },
    {
      "cell_type": "code",
      "metadata": {
        "colab": {
          "base_uri": "https://localhost:8080/"
        },
        "id": "2Fm_5d5FE8IU",
        "outputId": "f36d1ecb-9ad5-467b-8afb-e392d8743ef6"
      },
      "source": [
        "# kernel = 'rbf' is used on data which is separable\n",
        "classifier1 = SVC(kernel='rbf', random_state=0)  \n",
        "classifier1.fit(X_trainval_scaled, y_trainval)\n",
        "y_pred_1 = classifier.predict(X_test_scaled)   \n",
        "print(\"Predicted values with pipeline\",y_pred_1) \n",
        "cm_1 = confusion_matrix(y_test, y_pred_1)   \n",
        "print('The confusion matrix for pipeline model\\n', cm_1)\n",
        "print('The acuracy for pipeline model:', accuracy_score(y_test, y_pred_1))"
      ],
      "id": "2Fm_5d5FE8IU",
      "execution_count": null,
      "outputs": [
        {
          "output_type": "stream",
          "text": [
            "Predicted values with pipeline [1 0 0 0 0 1 1 1 0 0 1 0 0 0 1 0 1 0 1 1 1 0 1 0 1 1 1 1 0 1 0 0 0 1 1 0 1\n",
            " 1 0 1 1 0 0 0 0 1 1 0 1 0 1 1 1 1 0 0 1 1 0 1 0 0 1 1 0 0 0 0 1 0 0 1 1 1\n",
            " 1 0 0 0 0 0 1 0 1 0 0 0 1 0 0 1 1 1 1 0 0 0 1 0 0 1 1 0 0 0 1 1 1 0 0 1 0\n",
            " 1]\n",
            "The confusion matrix for pipeline model\n",
            " [[39 20]\n",
            " [19 34]]\n",
            "The acuracy for pipeline model: 0.6517857142857143\n"
          ],
          "name": "stdout"
        }
      ]
    },
    {
      "cell_type": "markdown",
      "metadata": {
        "id": "biological-diagram"
      },
      "source": [
        "#### Support vectors of the model\n",
        "\n",
        "* Find the samples of the dataset which are the support vectors of the model "
      ],
      "id": "biological-diagram"
    },
    {
      "cell_type": "code",
      "metadata": {
        "id": "strange-imagination",
        "colab": {
          "base_uri": "https://localhost:8080/"
        },
        "outputId": "deb966ee-8d4a-4a33-f308-754cdd2e2c3d"
      },
      "source": [
        "# YOUR CODE HERE (Kernel = Linear)\n",
        "classifier.support_vectors_"
      ],
      "id": "strange-imagination",
      "execution_count": null,
      "outputs": [
        {
          "output_type": "execute_result",
          "data": {
            "text/plain": [
              "array([[0.25      , 0.        , 0.62162162, ..., 0.44721907, 0.51308901,\n",
              "        0.40767045],\n",
              "       [0.25      , 1.        , 0.24324324, ..., 0.45856981, 0.64921466,\n",
              "        0.39630682],\n",
              "       [0.        , 1.        , 0.10810811, ..., 0.29057889, 1.        ,\n",
              "        0.57670455],\n",
              "       ...,\n",
              "       [0.25      , 0.        , 0.32432432, ..., 0.39160045, 0.58115183,\n",
              "        0.46448864],\n",
              "       [0.25      , 0.        , 0.62162162, ..., 0.32236095, 0.42931937,\n",
              "        0.53977273],\n",
              "       [0.25      , 1.        , 0.45945946, ..., 0.52553916, 0.30366492,\n",
              "        0.33522727]])"
            ]
          },
          "metadata": {
            "tags": []
          },
          "execution_count": 41
        }
      ]
    },
    {
      "cell_type": "code",
      "metadata": {
        "colab": {
          "base_uri": "https://localhost:8080/"
        },
        "id": "UKlDBzKu15SI",
        "outputId": "fbbfd49b-691c-4afc-8c98-60469d2c7bb5"
      },
      "source": [
        "\n",
        "# Kernel = rbf\n",
        "classifier1.support_vectors_"
      ],
      "id": "UKlDBzKu15SI",
      "execution_count": null,
      "outputs": [
        {
          "output_type": "execute_result",
          "data": {
            "text/plain": [
              "array([[0.25      , 0.        , 0.62162162, ..., 0.44721907, 0.51308901,\n",
              "        0.40767045],\n",
              "       [0.25      , 1.        , 0.24324324, ..., 0.45856981, 0.64921466,\n",
              "        0.39630682],\n",
              "       [0.25      , 0.        , 0.51351351, ..., 0.54483541, 0.58115183,\n",
              "        0.31818182],\n",
              "       ...,\n",
              "       [0.25      , 0.        , 0.32432432, ..., 0.39160045, 0.58115183,\n",
              "        0.46448864],\n",
              "       [0.25      , 0.        , 0.62162162, ..., 0.32236095, 0.42931937,\n",
              "        0.53977273],\n",
              "       [0.25      , 1.        , 0.45945946, ..., 0.52553916, 0.30366492,\n",
              "        0.33522727]])"
            ]
          },
          "metadata": {
            "tags": []
          },
          "execution_count": 42
        }
      ]
    },
    {
      "cell_type": "markdown",
      "metadata": {
        "id": "Ii5EqlWcoLJq"
      },
      "source": [
        "#### Confusion matrix for multi-class classification\n",
        "\n",
        "* Predict the test and plot the confusion matrix"
      ],
      "id": "Ii5EqlWcoLJq"
    },
    {
      "cell_type": "markdown",
      "metadata": {
        "id": "prepared-socket"
      },
      "source": [
        "#### One VS Rest Classifier\n",
        "\n",
        "OneVsRestClassifier can also be used for multilabel classification. For each classifier, the class is fitted against all the other classes. In addition to its computational efficiency (only n_classes classifiers are needed)\n",
        "\n",
        "* Fit `OneVsRestClassifier` on the data and find the accuracy\n",
        "\n",
        "Hint: [OneVsRestClassifier](https://scikit-learn.org/stable/modules/generated/sklearn.multiclass.OneVsRestClassifier.html)"
      ],
      "id": "prepared-socket"
    },
    {
      "cell_type": "code",
      "metadata": {
        "id": "appointed-division",
        "colab": {
          "base_uri": "https://localhost:8080/"
        },
        "outputId": "d9de4d5b-c63b-498b-d782-16fb3ac11c52"
      },
      "source": [
        "# YOUR CODE HERE\n",
        "from sklearn.multiclass import OneVsRestClassifier\n",
        "clf1 = OneVsRestClassifier(LinearSVC(random_state=0)).fit(X_trainval_scaled, y_trainval)\n",
        "y_pred_onevsrest = clf1.predict(X_test_scaled)\n",
        "print(\"Predicted values with One vs Rest\",y_pred_onevsrest) \n",
        "cm1 = confusion_matrix(y_test, y_pred_onevsrest)   \n",
        "print('The confusion matrix for One vs Rest model\\n', cm1)\n",
        "print('The acuracy for One vs Rest model:', accuracy_score(y_test, y_pred_onevsrest)) "
      ],
      "id": "appointed-division",
      "execution_count": null,
      "outputs": [
        {
          "output_type": "stream",
          "text": [
            "Predicted values with One vs Rest [1 1 0 0 0 1 0 1 0 0 1 0 0 0 1 0 1 0 1 1 0 0 1 0 1 1 1 1 1 1 0 0 0 1 1 0 1\n",
            " 1 0 1 1 0 1 0 0 1 1 0 1 0 1 1 1 1 0 0 1 1 0 1 0 1 1 1 0 0 0 0 1 0 0 1 1 1\n",
            " 1 0 0 0 0 0 1 0 1 0 0 0 1 0 0 1 1 1 1 0 1 0 1 0 0 1 1 0 0 0 1 1 1 0 0 1 0\n",
            " 0]\n",
            "The confusion matrix for One vs Rest model\n",
            " [[40 19]\n",
            " [16 37]]\n",
            "The acuracy for One vs Rest model: 0.6875\n"
          ],
          "name": "stdout"
        }
      ]
    },
    {
      "cell_type": "markdown",
      "metadata": {
        "id": "indoor-teddy"
      },
      "source": [
        "#### One VS One Classifier\n",
        "\n",
        "This strategy consists of fitting one classifier per class pair. At prediction time, the class which received the most votes is selected.\n",
        "\n",
        "* Fit `OneVsOneClassifier` on the data and find the accuracy\n",
        "\n",
        "Hint: [OneVsOneClassifier](https://scikit-learn.org/stable/modules/generated/sklearn.multiclass.OneVsOneClassifier.html)"
      ],
      "id": "indoor-teddy"
    },
    {
      "cell_type": "code",
      "metadata": {
        "id": "powered-combination",
        "colab": {
          "base_uri": "https://localhost:8080/"
        },
        "outputId": "e1049387-3bef-49fe-93fd-75ab66f9dc56"
      },
      "source": [
        "# YOUR CODE HERE\n",
        "from sklearn.multiclass import OneVsOneClassifier\n",
        "clf2 = OneVsOneClassifier(LinearSVC(random_state=0)).fit(X_trainval_scaled, y_trainval)\n",
        "y_pred_onevsone = clf2.predict(X_test_scaled)\n",
        "print(\"Predicted values with One vs One\",y_pred_onevsone) \n",
        "cm2 = confusion_matrix(y_test, y_pred_onevsone)   \n",
        "print('The confusion matrix for One vs One model\\n', cm2)\n",
        "print('The acuracy for One vs One model:', accuracy_score(y_test, y_pred_onevsone))"
      ],
      "id": "powered-combination",
      "execution_count": null,
      "outputs": [
        {
          "output_type": "stream",
          "text": [
            "Predicted values with One vs One [1 1 0 0 0 1 0 1 0 0 1 0 0 0 1 0 1 0 1 1 0 0 1 0 1 1 1 1 1 1 0 0 0 1 1 0 1\n",
            " 1 0 1 1 0 1 0 0 1 1 0 1 0 1 1 1 1 0 0 1 1 0 1 0 1 1 1 0 0 0 0 1 0 0 1 1 1\n",
            " 1 0 0 0 0 0 1 0 1 0 0 0 1 0 0 1 1 1 1 0 1 0 1 0 0 1 1 0 0 0 1 1 1 0 0 1 0\n",
            " 0]\n",
            "The confusion matrix for One vs One model\n",
            " [[40 19]\n",
            " [16 37]]\n",
            "The acuracy for One vs One model: 0.6875\n"
          ],
          "name": "stdout"
        }
      ]
    },
    {
      "cell_type": "markdown",
      "metadata": {
        "id": "supposed-entrance"
      },
      "source": [
        "#### Make it binary classification\n",
        "\n",
        "As stated in the dataset description, 14 subjects were characterized as nondemented at the time of their initial visit and were subsequently characterized as demented at a later visit. Change `Converted` label into `Demented`.\n",
        "\n",
        "**Note:** In two-class classification, encode the labels into numerical to plot the roc_curve with predictions."
      ],
      "id": "supposed-entrance"
    },
    {
      "cell_type": "code",
      "metadata": {
        "colab": {
          "base_uri": "https://localhost:8080/",
          "height": 423
        },
        "id": "23aG0NKs3vCy",
        "outputId": "f510531b-6562-4785-b93b-29dc17a74198"
      },
      "source": [
        "df"
      ],
      "id": "23aG0NKs3vCy",
      "execution_count": null,
      "outputs": [
        {
          "output_type": "execute_result",
          "data": {
            "text/html": [
              "<div>\n",
              "<style scoped>\n",
              "    .dataframe tbody tr th:only-of-type {\n",
              "        vertical-align: middle;\n",
              "    }\n",
              "\n",
              "    .dataframe tbody tr th {\n",
              "        vertical-align: top;\n",
              "    }\n",
              "\n",
              "    .dataframe thead th {\n",
              "        text-align: right;\n",
              "    }\n",
              "</style>\n",
              "<table border=\"1\" class=\"dataframe\">\n",
              "  <thead>\n",
              "    <tr style=\"text-align: right;\">\n",
              "      <th></th>\n",
              "      <th>Subject ID</th>\n",
              "      <th>Group</th>\n",
              "      <th>Visit</th>\n",
              "      <th>MR Delay</th>\n",
              "      <th>M/F</th>\n",
              "      <th>Age</th>\n",
              "      <th>EDUC</th>\n",
              "      <th>SES</th>\n",
              "      <th>MMSE</th>\n",
              "      <th>CDR</th>\n",
              "      <th>eTIV</th>\n",
              "      <th>nWBV</th>\n",
              "      <th>ASF</th>\n",
              "      <th>MMSE_new</th>\n",
              "      <th>age_group</th>\n",
              "      <th>CDR_new</th>\n",
              "    </tr>\n",
              "  </thead>\n",
              "  <tbody>\n",
              "    <tr>\n",
              "      <th>0</th>\n",
              "      <td>OAS2_0001</td>\n",
              "      <td>0</td>\n",
              "      <td>1</td>\n",
              "      <td>0</td>\n",
              "      <td>1</td>\n",
              "      <td>87</td>\n",
              "      <td>14</td>\n",
              "      <td>2.0</td>\n",
              "      <td>27.0</td>\n",
              "      <td>0.0</td>\n",
              "      <td>1987</td>\n",
              "      <td>0.696</td>\n",
              "      <td>0.883</td>\n",
              "      <td>Normal</td>\n",
              "      <td>80-90</td>\n",
              "      <td>Normal</td>\n",
              "    </tr>\n",
              "    <tr>\n",
              "      <th>1</th>\n",
              "      <td>OAS2_0001</td>\n",
              "      <td>0</td>\n",
              "      <td>2</td>\n",
              "      <td>457</td>\n",
              "      <td>1</td>\n",
              "      <td>88</td>\n",
              "      <td>14</td>\n",
              "      <td>2.0</td>\n",
              "      <td>30.0</td>\n",
              "      <td>0.0</td>\n",
              "      <td>2004</td>\n",
              "      <td>0.681</td>\n",
              "      <td>0.876</td>\n",
              "      <td>Normal</td>\n",
              "      <td>80-90</td>\n",
              "      <td>Normal</td>\n",
              "    </tr>\n",
              "    <tr>\n",
              "      <th>2</th>\n",
              "      <td>OAS2_0002</td>\n",
              "      <td>1</td>\n",
              "      <td>1</td>\n",
              "      <td>0</td>\n",
              "      <td>1</td>\n",
              "      <td>75</td>\n",
              "      <td>12</td>\n",
              "      <td>3.0</td>\n",
              "      <td>23.0</td>\n",
              "      <td>0.5</td>\n",
              "      <td>1678</td>\n",
              "      <td>0.736</td>\n",
              "      <td>1.046</td>\n",
              "      <td>Mild</td>\n",
              "      <td>70-80</td>\n",
              "      <td>Dementia</td>\n",
              "    </tr>\n",
              "    <tr>\n",
              "      <th>3</th>\n",
              "      <td>OAS2_0002</td>\n",
              "      <td>1</td>\n",
              "      <td>2</td>\n",
              "      <td>560</td>\n",
              "      <td>1</td>\n",
              "      <td>76</td>\n",
              "      <td>12</td>\n",
              "      <td>3.0</td>\n",
              "      <td>28.0</td>\n",
              "      <td>0.5</td>\n",
              "      <td>1738</td>\n",
              "      <td>0.713</td>\n",
              "      <td>1.010</td>\n",
              "      <td>Normal</td>\n",
              "      <td>70-80</td>\n",
              "      <td>Dementia</td>\n",
              "    </tr>\n",
              "    <tr>\n",
              "      <th>4</th>\n",
              "      <td>OAS2_0002</td>\n",
              "      <td>1</td>\n",
              "      <td>3</td>\n",
              "      <td>1895</td>\n",
              "      <td>1</td>\n",
              "      <td>80</td>\n",
              "      <td>12</td>\n",
              "      <td>3.0</td>\n",
              "      <td>22.0</td>\n",
              "      <td>0.5</td>\n",
              "      <td>1698</td>\n",
              "      <td>0.701</td>\n",
              "      <td>1.034</td>\n",
              "      <td>Mild</td>\n",
              "      <td>70-80</td>\n",
              "      <td>Dementia</td>\n",
              "    </tr>\n",
              "    <tr>\n",
              "      <th>...</th>\n",
              "      <td>...</td>\n",
              "      <td>...</td>\n",
              "      <td>...</td>\n",
              "      <td>...</td>\n",
              "      <td>...</td>\n",
              "      <td>...</td>\n",
              "      <td>...</td>\n",
              "      <td>...</td>\n",
              "      <td>...</td>\n",
              "      <td>...</td>\n",
              "      <td>...</td>\n",
              "      <td>...</td>\n",
              "      <td>...</td>\n",
              "      <td>...</td>\n",
              "      <td>...</td>\n",
              "      <td>...</td>\n",
              "    </tr>\n",
              "    <tr>\n",
              "      <th>368</th>\n",
              "      <td>OAS2_0185</td>\n",
              "      <td>1</td>\n",
              "      <td>2</td>\n",
              "      <td>842</td>\n",
              "      <td>1</td>\n",
              "      <td>82</td>\n",
              "      <td>16</td>\n",
              "      <td>1.0</td>\n",
              "      <td>28.0</td>\n",
              "      <td>0.5</td>\n",
              "      <td>1693</td>\n",
              "      <td>0.694</td>\n",
              "      <td>1.037</td>\n",
              "      <td>Normal</td>\n",
              "      <td>80-90</td>\n",
              "      <td>Dementia</td>\n",
              "    </tr>\n",
              "    <tr>\n",
              "      <th>369</th>\n",
              "      <td>OAS2_0185</td>\n",
              "      <td>1</td>\n",
              "      <td>3</td>\n",
              "      <td>2297</td>\n",
              "      <td>1</td>\n",
              "      <td>86</td>\n",
              "      <td>16</td>\n",
              "      <td>1.0</td>\n",
              "      <td>26.0</td>\n",
              "      <td>0.5</td>\n",
              "      <td>1688</td>\n",
              "      <td>0.675</td>\n",
              "      <td>1.040</td>\n",
              "      <td>Normal</td>\n",
              "      <td>80-90</td>\n",
              "      <td>Dementia</td>\n",
              "    </tr>\n",
              "    <tr>\n",
              "      <th>370</th>\n",
              "      <td>OAS2_0186</td>\n",
              "      <td>0</td>\n",
              "      <td>1</td>\n",
              "      <td>0</td>\n",
              "      <td>0</td>\n",
              "      <td>61</td>\n",
              "      <td>13</td>\n",
              "      <td>2.0</td>\n",
              "      <td>30.0</td>\n",
              "      <td>0.0</td>\n",
              "      <td>1319</td>\n",
              "      <td>0.801</td>\n",
              "      <td>1.331</td>\n",
              "      <td>Normal</td>\n",
              "      <td>60-70</td>\n",
              "      <td>Normal</td>\n",
              "    </tr>\n",
              "    <tr>\n",
              "      <th>371</th>\n",
              "      <td>OAS2_0186</td>\n",
              "      <td>0</td>\n",
              "      <td>2</td>\n",
              "      <td>763</td>\n",
              "      <td>0</td>\n",
              "      <td>63</td>\n",
              "      <td>13</td>\n",
              "      <td>2.0</td>\n",
              "      <td>30.0</td>\n",
              "      <td>0.0</td>\n",
              "      <td>1327</td>\n",
              "      <td>0.796</td>\n",
              "      <td>1.323</td>\n",
              "      <td>Normal</td>\n",
              "      <td>60-70</td>\n",
              "      <td>Normal</td>\n",
              "    </tr>\n",
              "    <tr>\n",
              "      <th>372</th>\n",
              "      <td>OAS2_0186</td>\n",
              "      <td>0</td>\n",
              "      <td>3</td>\n",
              "      <td>1608</td>\n",
              "      <td>0</td>\n",
              "      <td>65</td>\n",
              "      <td>13</td>\n",
              "      <td>2.0</td>\n",
              "      <td>30.0</td>\n",
              "      <td>0.0</td>\n",
              "      <td>1333</td>\n",
              "      <td>0.801</td>\n",
              "      <td>1.317</td>\n",
              "      <td>Normal</td>\n",
              "      <td>60-70</td>\n",
              "      <td>Normal</td>\n",
              "    </tr>\n",
              "  </tbody>\n",
              "</table>\n",
              "<p>373 rows × 16 columns</p>\n",
              "</div>"
            ],
            "text/plain": [
              "    Subject ID  Group  Visit  MR Delay  ...    ASF  MMSE_new  age_group   CDR_new\n",
              "0    OAS2_0001      0      1         0  ...  0.883    Normal      80-90    Normal\n",
              "1    OAS2_0001      0      2       457  ...  0.876    Normal      80-90    Normal\n",
              "2    OAS2_0002      1      1         0  ...  1.046      Mild      70-80  Dementia\n",
              "3    OAS2_0002      1      2       560  ...  1.010    Normal      70-80  Dementia\n",
              "4    OAS2_0002      1      3      1895  ...  1.034      Mild      70-80  Dementia\n",
              "..         ...    ...    ...       ...  ...    ...       ...        ...       ...\n",
              "368  OAS2_0185      1      2       842  ...  1.037    Normal      80-90  Dementia\n",
              "369  OAS2_0185      1      3      2297  ...  1.040    Normal      80-90  Dementia\n",
              "370  OAS2_0186      0      1         0  ...  1.331    Normal      60-70    Normal\n",
              "371  OAS2_0186      0      2       763  ...  1.323    Normal      60-70    Normal\n",
              "372  OAS2_0186      0      3      1608  ...  1.317    Normal      60-70    Normal\n",
              "\n",
              "[373 rows x 16 columns]"
            ]
          },
          "metadata": {
            "tags": []
          },
          "execution_count": 45
        }
      ]
    },
    {
      "cell_type": "code",
      "metadata": {
        "id": "married-cabinet",
        "colab": {
          "base_uri": "https://localhost:8080/"
        },
        "outputId": "1d99ce32-7b70-441b-996d-6d34922e47cd"
      },
      "source": [
        "# YOUR CODE HERE\n",
        "from sklearn.metrics import roc_curve\n",
        "#y1 = df['Group'].apply(lambda x : 1 if x == 'Demented' else 0)\n",
        "y1 = df['Group'].values # Target for the model\n",
        "X1 = df[['Visit', 'M/F', 'Age', 'EDUC', 'SES', 'MMSE', 'eTIV', 'nWBV', 'ASF']] # Features we use\n",
        "\n",
        "X_train_val, X_test1, y_train_val, y_test2 = train_test_split(X1, y1, test_size = 0.3, random_state=0)\n",
        "X_train_scaled = scaler.transform(X_train_val)\n",
        "X_test1_scaled = scaler.transform(X_test1)\n",
        "X_train_scaled.shape, y_test.shape\n",
        "model2 = SVC(C = 0.011, kernel = 'linear', probability= True)\n",
        "model2.fit(X_train_scaled, y_train_val)\n",
        "y_2 = model2.predict(X_test)\n",
        "\n",
        "print(\"Predicted values with One vs One\",y_2) \n",
        "cm2 = confusion_matrix(y_test2, y_2)   \n",
        "print('The confusion matrix for One vs One model\\n', cm2)\n",
        "print('The acuracy for One vs One model:', accuracy_score(y_test2, y_2))"
      ],
      "id": "married-cabinet",
      "execution_count": null,
      "outputs": [
        {
          "output_type": "stream",
          "text": [
            "Predicted values with One vs One [0 0 0 0 0 0 0 0 0 0 0 0 0 0 0 0 0 0 0 0 0 0 0 0 0 0 0 0 0 0 0 0 0 0 0 0 0\n",
            " 0 0 0 0 0 0 0 0 0 0 0 0 0 0 0 0 0 0 0 0 0 0 0 0 0 0 0 0 0 0 0 0 0 0 0 0 0\n",
            " 0 0 0 0 0 0 0 0 0 0 0 0 0 0 0 0 0 0 0 0 0 0 0 0 0 0 0 0 0 0 0 0 0 0 0 0 0\n",
            " 0]\n",
            "The confusion matrix for One vs One model\n",
            " [[59  0]\n",
            " [53  0]]\n",
            "The acuracy for One vs One model: 0.5267857142857143\n"
          ],
          "name": "stdout"
        }
      ]
    },
    {
      "cell_type": "markdown",
      "metadata": {
        "id": "HTfsIiKu8ROM"
      },
      "source": [
        "#### Compare the performance and predictions of both multi-class and binary classifications"
      ],
      "id": "HTfsIiKu8ROM"
    },
    {
      "cell_type": "code",
      "metadata": {
        "id": "HLhq8-dy8Y9F"
      },
      "source": [
        "# YOUR CODE HERE"
      ],
      "id": "HLhq8-dy8Y9F",
      "execution_count": null,
      "outputs": []
    },
    {
      "cell_type": "markdown",
      "metadata": {
        "id": "normal-vessel"
      },
      "source": [
        "### Classification report and metrics"
      ],
      "id": "normal-vessel"
    },
    {
      "cell_type": "markdown",
      "metadata": {
        "id": "heard-magazine"
      },
      "source": [
        "#### Confusion matrix\n",
        "\n",
        "Describe the performance of a classification model (or \"classifier\") on a set of test data for which the true values are known."
      ],
      "id": "heard-magazine"
    },
    {
      "cell_type": "code",
      "metadata": {
        "scrolled": true,
        "id": "intelligent-table"
      },
      "source": [
        "# YOUR CODE HERE"
      ],
      "id": "intelligent-table",
      "execution_count": null,
      "outputs": []
    },
    {
      "cell_type": "markdown",
      "metadata": {
        "id": "1RVShcZv_A19"
      },
      "source": [
        "#### Plot the ROC Curve\n",
        "\n",
        "ROC curves typically feature true positive rate on the Y axis, and false positive rate on the X axis. This means that the top left corner of the plot is the “ideal” point - a false positive rate of zero, and a true positive rate of one. This is not very realistic, but it does mean that a larger area under the curve (AUC) is usually better."
      ],
      "id": "1RVShcZv_A19"
    },
    {
      "cell_type": "code",
      "metadata": {
        "id": "mhyPHPVE-TMT"
      },
      "source": [
        "from sklearn import metrics\n",
        "def plot_confusion_metrix(y_test,model_test):\n",
        "    cm = metrics.confusion_matrix(y_test, model_test)\n",
        "    plt.figure(1)\n",
        "    plt.clf()\n",
        "    plt.imshow(cm, interpolation='nearest', cmap=plt.cm.Wistia)\n",
        "    classNames = ['Nondemented','Demented']\n",
        "    plt.title('Confusion Matrix')\n",
        "    plt.ylabel('True label')\n",
        "    plt.xlabel('Predicted label')\n",
        "    tick_marks = np.arange(len(classNames))\n",
        "    plt.xticks(tick_marks, classNames)\n",
        "    plt.yticks(tick_marks, classNames)\n",
        "    s = [['TN','FP'], ['FN', 'TP']]\n",
        "    for i in range(2):\n",
        "        for j in range(2):\n",
        "            plt.text(j,i, str(s[i][j])+\" = \"+str(cm[i][j]))\n",
        "    plt.show()"
      ],
      "id": "mhyPHPVE-TMT",
      "execution_count": null,
      "outputs": []
    },
    {
      "cell_type": "code",
      "metadata": {
        "id": "threatened-laugh"
      },
      "source": [
        "# YOUR CODE HERE\n",
        "def report_performance(model):\n",
        "\n",
        "    model_test = model.predict(X_test_scaled)\n",
        "    print(\"\\n\\nConfusion Matrix:\")\n",
        "    print(\"{0}\".format(metrics.confusion_matrix(y_test, model_test)))\n",
        "    print(\"\\n\\nClassification Report: \")\n",
        "    print(metrics.classification_report(y_test, model_test))\n",
        "    cm = metrics.confusion_matrix(y_test, model_test)\n",
        "    plot_confusion_metrix(y_test, model_test)\n",
        "\n",
        "total_fpr = {}\n",
        "total_tpr = {}\n",
        "def roc_curves(model):\n",
        "    predictions_test = model.predict(X_test_scaled)\n",
        "    fpr, tpr, thresholds = roc_curve(predictions_test,y_test)\n",
        "    roc_auc = auc(fpr, tpr)\n",
        "    total_fpr[str((str(model).split('(')[0]))] = fpr\n",
        "    total_tpr[str((str(model).split('(')[0]))] = tpr\n",
        "    plt.figure()\n",
        "    plt.plot(fpr, tpr, color='darkorange', lw=1, label='ROC curve (area = %0.2f)' % roc_auc)\n",
        "    plt.plot([0, 1], [0, 1], color='navy', lw=2, linestyle='--')\n",
        "    plt.xlim([0.0, 1.0])\n",
        "    plt.ylim([0.0, 1.05])\n",
        "    plt.xlabel('False Positive Rate')\n",
        "    plt.ylabel('True Positive Rate')\n",
        "    plt.title('Receiver operating characteristic')\n",
        "    plt.legend(loc=\"lower right\")\n",
        "    plt.show()\n",
        "\n",
        "total_accuracy = {}\n",
        "def accuracy(model):\n",
        "    pred = model.predict(X_test_scaled)\n",
        "    accu = metrics.accuracy_score(y_test,pred)\n",
        "    print(\"\\nAcuuracy Of the Model: \",accu,\"\\n\\n\")\n",
        "    total_accuracy[str((str(model).split('(')[0]))] = accu"
      ],
      "id": "threatened-laugh",
      "execution_count": null,
      "outputs": []
    },
    {
      "cell_type": "code",
      "metadata": {
        "colab": {
          "base_uri": "https://localhost:8080/",
          "height": 955
        },
        "id": "oCR1r_0MHsOO",
        "outputId": "040c34bd-884e-4d24-ef64-38702cf7c202"
      },
      "source": [
        "print(\"For Linear SVC\")\n",
        "report_performance(classifier) \n",
        "roc_curves(classifier)\n",
        "accuracy(classifier)"
      ],
      "id": "oCR1r_0MHsOO",
      "execution_count": null,
      "outputs": [
        {
          "output_type": "stream",
          "text": [
            "For Linear SVC\n",
            "\n",
            "\n",
            "Confusion Matrix:\n",
            "[[39 20]\n",
            " [19 34]]\n",
            "\n",
            "\n",
            "Classification Report: \n",
            "              precision    recall  f1-score   support\n",
            "\n",
            "           0       0.67      0.66      0.67        59\n",
            "           1       0.63      0.64      0.64        53\n",
            "\n",
            "    accuracy                           0.65       112\n",
            "   macro avg       0.65      0.65      0.65       112\n",
            "weighted avg       0.65      0.65      0.65       112\n",
            "\n"
          ],
          "name": "stdout"
        },
        {
          "output_type": "display_data",
          "data": {
            "image/png": "[encoded data removed]",
            "text/plain": [
              "<Figure size 432x288 with 1 Axes>"
            ]
          },
          "metadata": {
            "tags": [],
            "needs_background": "light"
          }
        },
        {
          "output_type": "display_data",
          "data": {
            "image/png": "[encoded data removed]",
            "text/plain": [
              "<Figure size 432x288 with 1 Axes>"
            ]
          },
          "metadata": {
            "tags": [],
            "needs_background": "light"
          }
        },
        {
          "output_type": "stream",
          "text": [
            "\n",
            "Acuuracy Of the Model:  0.6517857142857143 \n",
            "\n",
            "\n"
          ],
          "name": "stdout"
        }
      ]
    },
    {
      "cell_type": "code",
      "metadata": {
        "colab": {
          "base_uri": "https://localhost:8080/",
          "height": 955
        },
        "id": "01vFAlDC8-ng",
        "outputId": "67e3bc4f-4385-4f30-e8d1-9d3c4f636e20"
      },
      "source": [
        "print(\"For rbf\")\n",
        "report_performance(classifier1) \n",
        "roc_curves(classifier1)\n",
        "accuracy(classifier1)"
      ],
      "id": "01vFAlDC8-ng",
      "execution_count": null,
      "outputs": [
        {
          "output_type": "stream",
          "text": [
            "For rbf\n",
            "\n",
            "\n",
            "Confusion Matrix:\n",
            "[[40 19]\n",
            " [13 40]]\n",
            "\n",
            "\n",
            "Classification Report: \n",
            "              precision    recall  f1-score   support\n",
            "\n",
            "           0       0.75      0.68      0.71        59\n",
            "           1       0.68      0.75      0.71        53\n",
            "\n",
            "    accuracy                           0.71       112\n",
            "   macro avg       0.72      0.72      0.71       112\n",
            "weighted avg       0.72      0.71      0.71       112\n",
            "\n"
          ],
          "name": "stdout"
        },
        {
          "output_type": "display_data",
          "data": {
            "image/png": "[encoded data removed]",
            "text/plain": [
              "<Figure size 432x288 with 1 Axes>"
            ]
          },
          "metadata": {
            "tags": [],
            "needs_background": "light"
          }
        },
        {
          "output_type": "display_data",
          "data": {
            "image/png": "[encoded data removed]",
            "text/plain": [
              "<Figure size 432x288 with 1 Axes>"
            ]
          },
          "metadata": {
            "tags": [],
            "needs_background": "light"
          }
        },
        {
          "output_type": "stream",
          "text": [
            "\n",
            "Acuuracy Of the Model:  0.7142857142857143 \n",
            "\n",
            "\n"
          ],
          "name": "stdout"
        }
      ]
    },
    {
      "cell_type": "code",
      "metadata": {
        "colab": {
          "base_uri": "https://localhost:8080/",
          "height": 1000
        },
        "id": "0kholO41-GSc",
        "outputId": "61604026-e965-44ee-bf21-37e6fe712e37"
      },
      "source": [
        "print(\"For Multiclass\")\n",
        "report_performance(model2) \n",
        "roc_curves(model2)\n",
        "accuracy(model2)"
      ],
      "id": "0kholO41-GSc",
      "execution_count": null,
      "outputs": [
        {
          "output_type": "stream",
          "text": [
            "For Multiclass\n",
            "\n",
            "\n",
            "Confusion Matrix:\n",
            "[[59  0]\n",
            " [53  0]]\n",
            "\n",
            "\n",
            "Classification Report: \n",
            "              precision    recall  f1-score   support\n",
            "\n",
            "           0       0.53      1.00      0.69        59\n",
            "           1       0.00      0.00      0.00        53\n",
            "\n",
            "    accuracy                           0.53       112\n",
            "   macro avg       0.26      0.50      0.35       112\n",
            "weighted avg       0.28      0.53      0.36       112\n",
            "\n"
          ],
          "name": "stdout"
        },
        {
          "output_type": "stream",
          "text": [
            "/usr/local/lib/python3.7/dist-packages/sklearn/metrics/_classification.py:1272: UndefinedMetricWarning: Precision and F-score are ill-defined and being set to 0.0 in labels with no predicted samples. Use `zero_division` parameter to control this behavior.\n",
            "  _warn_prf(average, modifier, msg_start, len(result))\n"
          ],
          "name": "stderr"
        },
        {
          "output_type": "display_data",
          "data": {
            "image/png": "[encoded data removed]",
            "text/plain": [
              "<Figure size 432x288 with 1 Axes>"
            ]
          },
          "metadata": {
            "tags": [],
            "needs_background": "light"
          }
        },
        {
          "output_type": "stream",
          "text": [
            "/usr/local/lib/python3.7/dist-packages/sklearn/metrics/_ranking.py:808: UndefinedMetricWarning: No positive samples in y_true, true positive value should be meaningless\n",
            "  UndefinedMetricWarning)\n"
          ],
          "name": "stderr"
        },
        {
          "output_type": "display_data",
          "data": {
            "image/png": "[encoded data removed]",
            "text/plain": [
              "<Figure size 432x288 with 1 Axes>"
            ]
          },
          "metadata": {
            "tags": [],
            "needs_background": "light"
          }
        },
        {
          "output_type": "stream",
          "text": [
            "\n",
            "Acuuracy Of the Model:  0.5267857142857143 \n",
            "\n",
            "\n"
          ],
          "name": "stdout"
        }
      ]
    },
    {
      "cell_type": "markdown",
      "metadata": {
        "id": "fresh-force"
      },
      "source": [
        "### Choice of C for SVM\n",
        "\n",
        "experiment with different C values given and plot the ROC curve for each"
      ],
      "id": "fresh-force"
    },
    {
      "cell_type": "code",
      "metadata": {
        "id": "PMtaoZRY7HN-"
      },
      "source": [
        "acc = [] # list to store all performance metric"
      ],
      "id": "PMtaoZRY7HN-",
      "execution_count": null,
      "outputs": []
    },
    {
      "cell_type": "code",
      "metadata": {
        "id": "noble-uruguay",
        "colab": {
          "base_uri": "https://localhost:8080/"
        },
        "outputId": "a2abcd36-95d2-4fa3-c40b-b537bed56b91"
      },
      "source": [
        "from sklearn.model_selection import cross_val_score\n",
        "from sklearn.metrics import confusion_matrix, accuracy_score, recall_score, roc_curve, auc\n",
        "c_val = [0.0001, 0.001, 0.01, 0.1, 1, 10, 100, 1000]\n",
        "# YOUR CODE HERE\n",
        "# Dataset with imputation\n",
        "best_score = 0\n",
        "kfolds=5 # set the number of folds\n",
        "\n",
        "for c_paramter in [0.001, 0.01, 0.1, 1, 10, 100, 1000]: #iterate over the values we need to try for the parameter C\n",
        "    for gamma_paramter in [0.001, 0.01, 0.1, 1, 10, 100, 1000]: #iterate over the values we need to try for the parameter gamma\n",
        "        for k_parameter in ['rbf', 'linear', 'poly', 'sigmoid']: # iterate over the values we need to try for the kernel parameter\n",
        "            svmModel = SVC(kernel=k_parameter, C=c_paramter, gamma=gamma_paramter) #define the model\n",
        "            # perform cross-validation\n",
        "            scores = cross_val_score(svmModel, X_trainval_scaled, y_trainval, cv=kfolds, scoring='accuracy')\n",
        "            # the training set will be split internally into training and cross validation\n",
        "\n",
        "            # compute mean cross-validation accuracy\n",
        "            score = np.mean(scores)\n",
        "            # if we got a better score, store the score and parameters\n",
        "            if score > best_score:\n",
        "                best_score = score #store the score \n",
        "                best_parameter_c = c_paramter #store the parameter c\n",
        "                best_parameter_gamma = gamma_paramter #store the parameter gamma\n",
        "                best_parameter_k = k_parameter\n",
        " # rebuild a model with best parameters to get score \n",
        "SelectedSVMmodel = SVC(C=best_parameter_c, gamma=best_parameter_gamma, kernel=best_parameter_k).fit(X_trainval_scaled, y_trainval)\n",
        "\n",
        "test_score = SelectedSVMmodel.score(X_test_scaled, y_test)\n",
        "PredictedOutput = SelectedSVMmodel.predict(X_test_scaled)\n",
        "test_recall = recall_score(y_test, PredictedOutput, pos_label=1)\n",
        "fpr, tpr, thresholds = roc_curve(y_test, PredictedOutput, pos_label=1)\n",
        "test_auc = auc(fpr, tpr)\n",
        "print(\"Best accuracy on cross validation set is:\", best_score)\n",
        "print(\"Best parameter for c is: \", best_parameter_c)\n",
        "print(\"Best parameter for gamma is: \", best_parameter_gamma)\n",
        "print(\"Best parameter for kernel is: \", best_parameter_k)\n",
        "print(\"Test accuracy with the best parameters is\", test_score)\n",
        "print(\"Test recall with the best parameters is\", test_recall)\n",
        "print(\"Test recall with the best parameter is\", test_auc)\n",
        "\n",
        "m = 'SVM'\n",
        "acc.append([m, test_score, test_recall, test_auc, fpr, tpr, thresholds])               "
      ],
      "id": "noble-uruguay",
      "execution_count": null,
      "outputs": [
        {
          "output_type": "stream",
          "text": [
            "Best accuracy on cross validation set is: 0.8121915820029028\n",
            "Best parameter for c is:  0.001\n",
            "Best parameter for gamma is:  10\n",
            "Best parameter for kernel is:  poly\n",
            "Test accuracy with the best parameters is 0.7678571428571429\n",
            "Test recall with the best parameters is 0.7735849056603774\n",
            "Test recall with the best parameter is 0.7681483850335785\n"
          ],
          "name": "stdout"
        }
      ]
    },
    {
      "cell_type": "markdown",
      "metadata": {
        "id": "chinese-southwest"
      },
      "source": [
        "### Report Analysis\n",
        "\n",
        "* Compare the performance of the model with various Kernel parameters.\n",
        "* Discuss the impact of parameter C and gamma on performance.\n",
        "* Comment on the computational cost of implementing one vs one and one vs all to solve multi-class classification with binary classifier.\n",
        "* When do you call a sample/record in the data as a support vector?"
      ],
      "id": "chinese-southwest"
    }
  ]
}